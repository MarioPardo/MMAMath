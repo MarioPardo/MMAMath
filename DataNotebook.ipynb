{
 "cells": [
  {
   "cell_type": "markdown",
   "id": "908c9002",
   "metadata": {},
   "source": [
    "<h1> Getting all of a fighter's fights <h1>"
   ]
  },
  {
   "cell_type": "code",
   "execution_count": 1,
   "id": "9d2181e6",
   "metadata": {},
   "outputs": [
    {
     "name": "stdout",
     "output_type": "stream",
     "text": [
      "Requesting all fights for Charles%20Oliveira using the API: https://ufc-api-theta.vercel.app/mma-api/fights?name=Charles%20Oliveira\n"
     ]
    }
   ],
   "source": [
    "fighterName = \"Charles Oliveira\"\n",
    "fighterName = fighterName.replace(\" \", \"%20\")\n",
    "api_request = f\"https://ufc-api-theta.vercel.app/mma-api/fights?name={fighterName}\"\n",
    "print(f\"Requesting all fights for {fighterName} using the API: {api_request}\")\n"
   ]
  },
  {
   "cell_type": "code",
   "execution_count": 2,
   "id": "4f9cf523",
   "metadata": {},
   "outputs": [
    {
     "name": "stdout",
     "output_type": "stream",
     "text": [
      "{\"success\":true,\"length\":34,\"fights\":[{\"_id\":\"67533ce97a2ac5f7e09b13e4\",\"event\":\"UFC Fight Night: Marquardt vs Palhares\",\"date\":\"2010-09-14T21:00:00.000Z\",\"location\":\"Austin, Texas, USA\",\"fighter1ID\":\"07225ba28ae309b6\",\"fighter2ID\":\"83fd97284f4bb4a4\",\"fighter1\":\"Charles Oliveira\",\"fighter2\":\"Efrain Escudero\",\"win\":\"Charles Oliveira\",\"lose\":\"Efrain Escudero\",\"weight_class\":\"Lightweight\",\"method\":\"SUB\",\"endWith\":\"Rear Naked Choke\",\"roundd\":\"3\",\"time\":\"2:25\",\"__v\":0},{\"_id\":\"67533ce97a2ac5f7e09b141a\",\"event\":\"UFC Live: Jones vs Matyushenko\",\"date\":\"2010-07-31T21:00:00.000Z\",\"location\":\"San Diego, California, USA\",\"fighter1ID\":\"07225ba28ae309b6\",\"fighter2ID\":\"92a9aa9c93192871\",\"fighter1\":\"Charles Oliveira\",\"fighter2\":\"Darren Elkins\",\"win\":\"Charles Oliveira\",\"lose\":\"Darren Elkins\",\"weight_class\":\"Lightweight\",\"method\":\"SUB\",\"endWith\":\"Triangle Armbar\",\"roundd\":\"1\",\"time\":\"0:41\",\"__v\":0},{\"_id\":\"67533ce97a2ac5f7e09b15e3\",\"event\":\"The Ultimate Fighter: Live Finale\",\"date\":\"2012-05-31T21:00:00.000Z\",\"location\":\"Las Vegas, Nevada, USA\",\"fighter1ID\":\"07225ba28ae309b6\",\"fighter2ID\":\"b0a6124751a56bc4\",\"fighter1\":\"Charles Oliveira\",\"fighter2\":\"Jonathan Brookins\",\"win\":\"Charles Oliveira\",\"lose\":\"Jonathan Brookins\",\"weight_class\":\"Featherweight\",\"method\":\"SUB\",\"endWith\":\"Anaconda Choke\",\"roundd\":\"2\",\"time\":\"2:42\",\"__v\":0},{\"_id\":\"67533ce97a2ac5f7e09b15aa\",\"event\":\"UFC on FOX: Evans vs Davis\",\"date\":\"2012-01-27T22:00:00.000Z\",\"location\":\"Chicago, Illinois, USA\",\"fighter1ID\":\"07225ba28ae309b6\",\"fighter2ID\":\"53f84637dfffab7a\",\"fighter1\":\"Charles Oliveira\",\"fighter2\":\"Eric Wisely\",\"win\":\"Charles Oliveira\",\"lose\":\"Eric Wisely\",\"weight_class\":\"Featherweight\",\"method\":\"SUB\",\"endWith\":\"Calf Slicer\",\"roundd\":\"1\",\"time\":\"1:43\",\"__v\":0},{\"_id\":\"67533ce97a2ac5f7e09b18a7\",\"event\":\"UFC Fight Night: Machida vs Mousasi\",\"date\":\"2014-02-14T22:00:00.000Z\",\"location\":\"Jaragua do Sul, Santa Catarina, Brazil\",\"fighter1ID\":\"07225ba28ae309b6\",\"fighter2ID\":\"b6c4451cb13c9303\",\"fighter1\":\"Charles Oliveira\",\"fighter2\":\"Andy Ogle\",\"win\":\"Charles Oliveira\",\"lose\":\"Andy Ogle\",\"weight_class\":\"Featherweight\",\"method\":\"SUB\",\"endWith\":\"Triangle Choke\",\"roundd\":\"3\",\"time\":\"2:40\",\"__v\":0},{\"_id\":\"67533ce97a2ac5f7e09b1928\",\"event\":\"UFC Fight Night: Te Huna vs Marquardt\",\"date\":\"2014-06-27T21:00:00.000Z\",\"location\":\"Auckland, New Zealand\",\"fighter1ID\":\"07225ba28ae309b6\",\"fighter2ID\":\"ef7fa30364cbe7f2\",\"fighter1\":\"Charles Oliveira\",\"fighter2\":\"Hatsu Hioki\",\"win\":\"Charles Oliveira\",\"lose\":\"Hatsu Hioki\",\"weight_class\":\"Featherweight\",\"method\":\"SUB\",\"endWith\":\"Anaconda Choke\",\"roundd\":\"2\",\"time\":\"4:32\",\"__v\":0},{\"_id\":\"67533ce97a2ac5f7e09b1a28\",\"event\":\"The Ultimate Fighter: A Champion Will Be Crowned Finale\",\"date\":\"2014-12-11T22:00:00.000Z\",\"location\":\"Las Vegas, Nevada, USA\",\"fighter1ID\":\"07225ba28ae309b6\",\"fighter2ID\":\"18968f97ad34f15c\",\"fighter1\":\"Charles Oliveira\",\"fighter2\":\"Jeremy Stephens\",\"win\":\"Charles Oliveira\",\"lose\":\"Jeremy Stephens\",\"weight_class\":\"Featherweight\",\"method\":\"U-DEC\",\"endWith\":\"decision\",\"roundd\":\"3\",\"time\":\"5:00\",\"__v\":0},{\"_id\":\"67533ce97a2ac5f7e09b1ae7\",\"event\":\"UFC Fight Night: Condit vs Alves\",\"date\":\"2015-05-29T21:00:00.000Z\",\"location\":\"Goiania, Goias, Brazil\",\"fighter1ID\":\"07225ba28ae309b6\",\"fighter2ID\":\"6fb1ba67bef41b37\",\"fighter1\":\"Charles Oliveira\",\"fighter2\":\"Nik Lentz\",\"win\":\"Charles Oliveira\",\"lose\":\"Nik Lentz\",\"weight_class\":\"Featherweight\",\"method\":\"SUB\",\"endWith\":\"Guillotine Choke\",\"roundd\":\"3\",\"time\":\"1:10\",\"__v\":0},{\"_id\":\"67533ce97a2ac5f7e09b1c30\",\"event\":\"UFC on FOX: Dos Anjos vs. Cowboy 2\",\"date\":\"2015-12-18T22:00:00.000Z\",\"location\":\"Orlando, Florida, USA\",\"fighter1ID\":\"07225ba28ae309b6\",\"fighter2ID\":\"08e908ed6d18d6a0\",\"fighter1\":\"Charles Oliveira\",\"fighter2\":\"Myles Jury\",\"win\":\"Charles Oliveira\",\"lose\":\"Myles Jury\",\"weight_class\":\"Featherweight\",\"method\":\"SUB\",\"endWith\":\"Guillotine Choke\",\"roundd\":\"1\",\"time\":\"3:05\",\"__v\":0},{\"_id\":\"67533ce97a2ac5f7e09b1e75\",\"event\":\"UFC 210: Cormier vs. Johnson 2\",\"date\":\"2017-04-07T21:00:00.000Z\",\"location\":\"Buffalo, New York, USA\",\"fighter1ID\":\"07225ba28ae309b6\",\"fighter2ID\":\"b6e6c3b1dcaae0a1\",\"fighter1\":\"Charles Oliveira\",\"fighter2\":\"Will Brooks\",\"win\":\"Charles Oliveira\",\"lose\":\"Will Brooks\",\"weight_class\":\"Lightweight\",\"method\":\"SUB\",\"endWith\":\"Rear Naked Choke\",\"roundd\":\"1\",\"time\":\"2:30\",\"__v\":0},{\"_id\":\"67533ce97a2ac5f7e09b20fc\",\"event\":\"UFC 225: Whittaker vs. Romero 2\",\"date\":\"2018-06-08T21:00:00.000Z\",\"location\":\"Chicago, Illinois, USA\",\"fighter1ID\":\"07225ba28ae309b6\",\"fighter2ID\":\"c47df9303d318c67\",\"fighter1\":\"Charles Oliveira\",\"fighter2\":\"Clay Guida\",\"win\":\"Charles Oliveira\",\"lose\":\"Clay Guida\",\"weight_class\":\"Lightweight\",\"method\":\"SUB\",\"endWith\":\"Guillotine Choke\",\"roundd\":\"1\",\"time\":\"2:18\",\"__v\":0},{\"_id\":\"67533ce97a2ac5f7e09b212a\",\"event\":\"UFC Fight Night: Marreta vs. Anders\",\"date\":\"2018-09-21T21:00:00.000Z\",\"location\":\"Sao Paulo, Sao Paulo, Brazil\",\"fighter1ID\":\"07225ba28ae309b6\",\"fighter2ID\":\"de45aaae23dfa392\",\"fighter1\":\"Charles Oliveira\",\"fighter2\":\"Christos Giagos\",\"win\":\"Charles Oliveira\",\"lose\":\"Christos Giagos\",\"weight_class\":\"Lightweight\",\"method\":\"SUB\",\"endWith\":\"Rear Naked Choke\",\"roundd\":\"2\",\"time\":\"3:22\",\"__v\":0},{\"_id\":\"67533ce97a2ac5f7e09b21ad\",\"event\":\"UFC Fight Night: Lee vs. Iaquinta\",\"date\":\"2018-12-14T21:00:00.000Z\",\"location\":\"Milwaukee, Wisconsin, USA\",\"fighter1ID\":\"07225ba28ae309b6\",\"fighter2ID\":\"d1941565abf50b16\",\"fighter1\":\"Charles Oliveira\",\"fighter2\":\"Jim Miller\",\"win\":\"Charles Oliveira\",\"lose\":\"Jim Miller\",\"weight_class\":\"Lightweight\",\"method\":\"SUB\",\"endWith\":\"Rear Naked Choke\",\"roundd\":\"1\",\"time\":\"1:15\",\"__v\":0},{\"_id\":\"67533ce97a2ac5f7e09b21c8\",\"event\":\"UFC Fight Night: Assuncao vs. Moraes 2\",\"date\":\"2019-02-01T21:00:00.000Z\",\"location\":\"Fortaleza, Ceara, Brazil\",\"fighter1ID\":\"07225ba28ae309b6\",\"fighter2ID\":\"2747c60e42d9d75f\",\"fighter1\":\"Charles Oliveira\",\"fighter2\":\"David Teymur\",\"win\":\"Charles Oliveira\",\"lose\":\"David Teymur\",\"weight_class\":\"Lightweight\",\"method\":\"SUB\",\"endWith\":\"Anaconda Choke\",\"roundd\":\"2\",\"time\":\"0:55\",\"__v\":0},{\"_id\":\"67533cea7a2ac5f7e09b225f\",\"event\":\"UFC Fight Night: Dos Anjos vs. Lee\",\"date\":\"2019-05-17T21:00:00.000Z\",\"location\":\"Rochester, New York, USA\",\"fighter1ID\":\"07225ba28ae309b6\",\"fighter2ID\":\"6fb1ba67bef41b37\",\"fighter1\":\"Charles Oliveira\",\"fighter2\":\"Nik Lentz\",\"win\":\"Charles Oliveira\",\"lose\":\"Nik Lentz\",\"weight_class\":\"Lightweight\",\"method\":\"KO/TKO\",\"endWith\":\"Punch\",\"roundd\":\"2\",\"time\":\"2:11\",\"__v\":0},{\"_id\":\"67533cea7a2ac5f7e09b235c\",\"event\":\"UFC Fight Night: Blachowicz vs. Jacare\",\"date\":\"2019-11-15T21:00:00.000Z\",\"location\":\"Sao Paulo, Sao Paulo, Brazil\",\"fighter1ID\":\"07225ba28ae309b6\",\"fighter2ID\":\"7026eca45f65377b\",\"fighter1\":\"Charles Oliveira\",\"fighter2\":\"Jared Gordon\",\"win\":\"Charles Oliveira\",\"lose\":\"Jared Gordon\",\"weight_class\":\"Lightweight\",\"method\":\"KO/TKO\",\"endWith\":\"Punch\",\"roundd\":\"1\",\"time\":\"1:26\",\"__v\":0},{\"_id\":\"67533cea7a2ac5f7e09b23c5\",\"event\":\"UFC Fight Night: Lee vs. Oliveira\",\"date\":\"2020-03-13T21:00:00.000Z\",\"location\":\"Brasilia, Distrito Federal, Brazil\",\"fighter1ID\":\"07225ba28ae309b6\",\"fighter2ID\":\"ee9ebceabfd16fa7\",\"fighter1\":\"Charles Oliveira\",\"fighter2\":\"Kevin Lee\",\"win\":\"Charles Oliveira\",\"lose\":\"Kevin Lee\",\"weight_class\":\"Lightweight\",\"method\":\"SUB\",\"endWith\":\"Guillotine Choke\",\"roundd\":\"3\",\"time\":\"0:28\",\"__v\":0},{\"_id\":\"67533cea7a2ac5f7e09b2541\",\"event\":\"UFC 256: Figueiredo vs. Moreno\",\"date\":\"2020-12-11T21:00:00.000Z\",\"location\":\"Las Vegas, Nevada, USA\",\"fighter1ID\":\"07225ba28ae309b6\",\"fighter2ID\":\"22a92d7f62195791\",\"fighter1\":\"Charles Oliveira\",\"fighter2\":\"Tony Ferguson\",\"win\":\"Charles Oliveira\",\"lose\":\"Tony Ferguson\",\"weight_class\":\"Lightweight\",\"method\":\"U-DEC\",\"endWith\":\"decision\",\"roundd\":\"3\",\"time\":\"5:00\",\"__v\":0},{\"_id\":\"67533cea7a2ac5f7e09b25c2\",\"event\":\"UFC 262: Oliveira vs. Chandler\",\"date\":\"2021-05-14T21:00:00.000Z\",\"location\":\"Houston, Texas, USA\",\"fighter1ID\":\"07225ba28ae309b6\",\"fighter2ID\":\"4b93a88f3b1de35b\",\"fighter1\":\"Charles Oliveira\",\"fighter2\":\"Michael Chandler\",\"win\":\"Charles Oliveira\",\"lose\":\"Michael Chandler\",\"weight_class\":\"Lightweight\",\"method\":\"KO/TKO\",\"endWith\":\"Punch\",\"roundd\":\"2\",\"time\":\"0:19\",\"__v\":0},{\"_id\":\"67533cea7a2ac5f7e09b270e\",\"event\":\"UFC 269: Oliveira vs. Poirier\",\"date\":\"2021-12-10T21:00:00.000Z\",\"location\":\"Las Vegas, Nevada, USA\",\"fighter1ID\":\"07225ba28ae309b6\",\"fighter2ID\":\"029eaff01e6bb8f0\",\"fighter1\":\"Charles Oliveira\",\"fighter2\":\"Dustin Poirier\",\"win\":\"Charles Oliveira\",\"lose\":\"Dustin Poirier\",\"weight_class\":\"Lightweight\",\"method\":\"SUB\",\"endWith\":\"Rear Naked Choke\",\"roundd\":\"3\",\"time\":\"1:02\",\"__v\":0},{\"_id\":\"67533cea7a2ac5f7e09b2794\",\"event\":\"UFC 274: Oliveira vs. Gaethje\",\"date\":\"2022-05-06T21:00:00.000Z\",\"location\":\"Phoenix, Arizona, USA\",\"fighter1ID\":\"07225ba28ae309b6\",\"fighter2ID\":\"9e8f6c728eb01124\",\"fighter1\":\"Charles Oliveira\",\"fighter2\":\"Justin Gaethje\",\"win\":\"Charles Oliveira\",\"lose\":\"Justin Gaethje\",\"weight_class\":\"Lightweight\",\"method\":\"SUB\",\"endWith\":\"Rear Naked Choke\",\"roundd\":\"1\",\"time\":\"3:22\",\"__v\":0},{\"_id\":\"67533ceb7a2ac5f7e09b29f6\",\"event\":\"UFC 289: Nunes vs. Aldana\",\"date\":\"2023-06-09T21:00:00.000Z\",\"location\":\"Vancouver, British Columbia, Canada\",\"fighter1ID\":\"07225ba28ae309b6\",\"fighter2ID\":\"08af939f41b5a57b\",\"fighter1\":\"Charles Oliveira\",\"fighter2\":\"Beneil Dariush\",\"win\":\"Charles Oliveira\",\"lose\":\"Beneil Dariush\",\"weight_class\":\"Lightweight\",\"method\":\"KO/TKO\",\"endWith\":\"Punches\",\"roundd\":\"1\",\"time\":\"4:10\",\"__v\":0},{\"_id\":\"67533ceb7a2ac5f7e09b2c57\",\"event\":\"UFC 309: Jones vs. Miocic\",\"date\":\"2024-11-15T21:00:00.000Z\",\"location\":\"New York City, New York, USA\",\"fighter1ID\":\"07225ba28ae309b6\",\"fighter2ID\":\"4b93a88f3b1de35b\",\"fighter1\":\"Charles Oliveira\",\"fighter2\":\"Michael Chandler\",\"win\":\"Charles Oliveira\",\"lose\":\"Michael Chandler\",\"weight_class\":\"Lightweight\",\"method\":\"U-DEC\",\"endWith\":\"\",\"roundd\":\"5\",\"time\":\"5:00\",\"__v\":0},{\"_id\":\"67533ce97a2ac5f7e09b1431\",\"event\":\"UFC 124: St-Pierre vs Koscheck 2\",\"date\":\"2010-12-10T22:00:00.000Z\",\"location\":\"Montreal, Quebec, Canada\",\"fighter1ID\":\"d1941565abf50b16\",\"fighter2ID\":\"07225ba28ae309b6\",\"fighter1\":\"Jim Miller\",\"fighter2\":\"Charles Oliveira\",\"win\":\"Jim Miller\",\"lose\":\"Charles Oliveira\",\"weight_class\":\"Lightweight\",\"method\":\"SUB\",\"endWith\":\"Kneebar\",\"roundd\":\"1\",\"time\":\"1:59\",\"__v\":0},{\"_id\":\"67533ce97a2ac5f7e09b14e3\",\"event\":\"UFC Live: Hardy vs Lytle\",\"date\":\"2011-08-13T21:00:00.000Z\",\"location\":\"Milwaukee, Wisconsin, USA\",\"fighter1ID\":\"1d00756835ca67c9\",\"fighter2ID\":\"07225ba28ae309b6\",\"fighter1\":\"Donald Cerrone\",\"fighter2\":\"Charles Oliveira\",\"win\":\"Donald Cerrone\",\"lose\":\"Charles Oliveira\",\"weight_class\":\"Lightweight\",\"method\":\"KO/TKO\",\"endWith\":\"Punches\",\"roundd\":\"1\",\"time\":\"3:01\",\"__v\":0},{\"_id\":\"67533ce97a2ac5f7e09b14fc\",\"event\":\"UFC Live: Kongo vs Barry\",\"date\":\"2011-06-25T21:00:00.000Z\",\"location\":\"Pittsburgh, Pennsylvania, USA\",\"fighter1ID\":\"6fb1ba67bef41b37\",\"fighter2ID\":\"07225ba28ae309b6\",\"fighter1\":\"Nik Lentz\",\"fighter2\":\"Charles Oliveira\",\"nc1\":\"Nik Lentz\",\"nc2\":\"Charles Oliveira\",\"weight_class\":\"2\",\"method\":\"\",\"endWith\":\"\",\"roundd\":\"Overturned\",\"time\":\"\",\"__v\":0},{\"_id\":\"67533ce97a2ac5f7e09b1667\",\"event\":\"UFC 152: Jones vs Belfort\",\"date\":\"2012-09-21T21:00:00.000Z\",\"location\":\"Toronto, Ontario, Canada\",\"fighter1ID\":\"d247691a6c0e9034\",\"fighter2ID\":\"07225ba28ae309b6\",\"fighter1\":\"Cub Swanson\",\"fighter2\":\"Charles Oliveira\",\"win\":\"Cub Swanson\",\"lose\":\"Charles Oliveira\",\"weight_class\":\"Featherweight\",\"method\":\"KO/TKO\",\"endWith\":\"Punch\",\"roundd\":\"1\",\"time\":\"2:40\",\"__v\":0},{\"_id\":\"67533ce97a2ac5f7e09b1753\",\"event\":\"UFC 162: Silva vs Weidman\",\"date\":\"2013-07-05T21:00:00.000Z\",\"location\":\"Las Vegas, Nevada, USA\",\"fighter1ID\":\"f2688492b9a525a3\",\"fighter2ID\":\"07225ba28ae309b6\",\"fighter1\":\"Frankie Edgar\",\"fighter2\":\"Charles Oliveira\",\"win\":\"Frankie Edgar\",\"lose\":\"Charles Oliveira\",\"weight_class\":\"Featherweight\",\"method\":\"U-DEC\",\"endWith\":\"\",\"roundd\":\"3\",\"time\":\"5:00\",\"__v\":0},{\"_id\":\"67533ce97a2ac5f7e09b1b82\",\"event\":\"UFC Fight Night: Holloway vs Oliveira\",\"date\":\"2015-08-22T21:00:00.000Z\",\"location\":\"Saskatoon, Saskatchewan, Canada\",\"fighter1ID\":\"150ff4cc642270b9\",\"fighter2ID\":\"07225ba28ae309b6\",\"fighter1\":\"Max Holloway\",\"fighter2\":\"Charles Oliveira\",\"win\":\"Max Holloway\",\"lose\":\"Charles Oliveira\",\"weight_class\":\"Featherweight\",\"method\":\"KO/TKO\",\"endWith\":\"\",\"roundd\":\"1\",\"time\":\"1:39\",\"__v\":0},{\"_id\":\"67533ce97a2ac5f7e09b1d27\",\"event\":\"UFC on FOX: Maia vs. Condit\",\"date\":\"2016-08-26T21:00:00.000Z\",\"location\":\"Vancouver, British Columbia, Canada\",\"fighter1ID\":\"cbb682f5fcc44bfc\",\"fighter2ID\":\"07225ba28ae309b6\",\"fighter1\":\"Anthony Pettis\",\"fighter2\":\"Charles Oliveira\",\"win\":\"Anthony Pettis\",\"lose\":\"Charles Oliveira\",\"weight_class\":\"Featherweight\",\"method\":\"SUB\",\"endWith\":\"Guillotine Choke\",\"roundd\":\"3\",\"time\":\"1:49\",\"__v\":0},{\"_id\":\"67533ce97a2ac5f7e09b1d8d\",\"event\":\"UFC Fight Night: Dos Anjos vs. Ferguson\",\"date\":\"2016-11-04T21:00:00.000Z\",\"location\":\"Mexico City, Distrito Federal, Mexico\",\"fighter1ID\":\"3974fa35c917af1d\",\"fighter2ID\":\"07225ba28ae309b6\",\"fighter1\":\"Ricardo Lamas\",\"fighter2\":\"Charles Oliveira\",\"win\":\"Ricardo Lamas\",\"lose\":\"Charles Oliveira\",\"weight_class\":\"Featherweight\",\"method\":\"SUB\",\"endWith\":\"Guillotine Choke\",\"roundd\":\"2\",\"time\":\"2:13\",\"__v\":0},{\"_id\":\"67533ce97a2ac5f7e09b1fb5\",\"event\":\"UFC 218: Holloway vs. Aldo 2\",\"date\":\"2017-12-01T21:00:00.000Z\",\"location\":\"Detroit, Michigan, USA\",\"fighter1ID\":\"e5010b1b94ca5755\",\"fighter2ID\":\"07225ba28ae309b6\",\"fighter1\":\"Paul Felder\",\"fighter2\":\"Charles Oliveira\",\"win\":\"Paul Felder\",\"lose\":\"Charles Oliveira\",\"weight_class\":\"Lightweight\",\"method\":\"KO/TKO\",\"endWith\":\"Elbows\",\"roundd\":\"2\",\"time\":\"4:06\",\"__v\":0},{\"_id\":\"67533cea7a2ac5f7e09b287c\",\"event\":\"UFC 280: Oliveira vs. Makhachev\",\"date\":\"2022-10-21T21:00:00.000Z\",\"location\":\"Abu Dhabi, Abu Dhabi, United Arab Emirates\",\"fighter1ID\":\"275aca31f61ba28c\",\"fighter2ID\":\"07225ba28ae309b6\",\"fighter1\":\"Islam Makhachev\",\"fighter2\":\"Charles Oliveira\",\"win\":\"Islam Makhachev\",\"lose\":\"Charles Oliveira\",\"weight_class\":\"Lightweight\",\"method\":\"SUB\",\"endWith\":\"Arm Triangle\",\"roundd\":\"2\",\"time\":\"3:16\",\"__v\":0},{\"_id\":\"67533ceb7a2ac5f7e09b2b23\",\"event\":\"UFC 300: Pereira vs. Hill\",\"date\":\"2024-04-12T21:00:00.000Z\",\"location\":\"Las Vegas, Nevada, USA\",\"fighter1ID\":\"eae48ff31db420c2\",\"fighter2ID\":\"07225ba28ae309b6\",\"fighter1\":\"Arman Tsarukyan\",\"fighter2\":\"Charles Oliveira\",\"win\":\"Arman Tsarukyan\",\"lose\":\"Charles Oliveira\",\"weight_class\":\"Lightweight\",\"method\":\"S-DEC\",\"endWith\":\"decision\",\"roundd\":\"3\",\"time\":\"5:00\",\"__v\":0}]}\n"
     ]
    }
   ],
   "source": [
    "import requests\n",
    "\n",
    "response = requests.get(api_request)\n",
    "print(response.text)"
   ]
  },
  {
   "cell_type": "code",
   "execution_count": 3,
   "id": "dda3bf66",
   "metadata": {},
   "outputs": [
    {
     "name": "stdout",
     "output_type": "stream",
     "text": [
      "Skipping entry without win/lose information.\n",
      "Entry: {'_id': '67533ce97a2ac5f7e09b14fc', 'event': 'UFC Live: Kongo vs Barry', 'date': '2011-06-25T21:00:00.000Z', 'location': 'Pittsburgh, Pennsylvania, USA', 'fighter1ID': '6fb1ba67bef41b37', 'fighter2ID': '07225ba28ae309b6', 'fighter1': 'Nik Lentz', 'fighter2': 'Charles Oliveira', 'nc1': 'Nik Lentz', 'nc2': 'Charles Oliveira', 'weight_class': '2', 'method': '', 'endWith': '', 'roundd': 'Overturned', 'time': '', '__v': 0}\n"
     ]
    }
   ],
   "source": [
    "for entry in response.json()[\"fights\"]:\n",
    "\n",
    "    if \"win\" not in entry or \"lose\" not in entry:\n",
    "        print(\"Skipping entry without win/lose information.\")\n",
    "        print(\"Entry: \" + str(entry))\n",
    "        continue\n",
    "    winner = entry[\"win\"]\n",
    "    loser = entry[\"lose\"]\n",
    "    date = entry[\"date\"].split('T')[0]\n",
    "    method = entry[\"method\"]\n",
    "\n",
    "   # print(\"Fight: \" + winner + \" vs \" + loser + \" on \" + date + \" by \" + method)\n"
   ]
  },
  {
   "cell_type": "code",
   "execution_count": 4,
   "id": "2788d743",
   "metadata": {},
   "outputs": [],
   "source": [
    "def API_GetFightsForFighter(fighterName):\n",
    "    fighterName = fighterName.replace(\" \", \"%20\")\n",
    "    api_request = f\"https://ufc-api-theta.vercel.app/mma-api/fights?name={fighterName}\"\n",
    "    print(f\"Requesting all fights for {fighterName} using the API: {api_request}\")\n",
    "\n",
    "    response = requests.get(api_request)\n",
    "\n",
    "    fights = []\n",
    "\n",
    "    for entry in response.json()[\"fights\"]:\n",
    "        if \"win\" not in entry or \"lose\" not in entry:\n",
    "            print(\" Skipping entry without win/lose information.\")\n",
    "            print(\"     Entry: \" + str(entry))\n",
    "            continue\n",
    "        winner = entry[\"win\"]\n",
    "        loser = entry[\"lose\"]\n",
    "        date = entry[\"date\"].split('T')[0]\n",
    "        method = entry[\"method\"]\n",
    "\n",
    "        fight_dict = {\n",
    "            \"winner\": winner,\n",
    "            \"loser\": loser,\n",
    "            \"date\": date,\n",
    "            \"method\": method\n",
    "        }\n",
    "\n",
    "        fights.append(fight_dict)\n",
    "\n",
    "    \n",
    "    return fights"
   ]
  },
  {
   "cell_type": "code",
   "execution_count": 5,
   "id": "338c6320",
   "metadata": {},
   "outputs": [
    {
     "name": "stdout",
     "output_type": "stream",
     "text": [
      "Requesting all fights for Charles%20Oliveira using the API: https://ufc-api-theta.vercel.app/mma-api/fights?name=Charles%20Oliveira\n"
     ]
    },
    {
     "name": "stdout",
     "output_type": "stream",
     "text": [
      " Skipping entry without win/lose information.\n",
      "     Entry: {'_id': '67533ce97a2ac5f7e09b14fc', 'event': 'UFC Live: Kongo vs Barry', 'date': '2011-06-25T21:00:00.000Z', 'location': 'Pittsburgh, Pennsylvania, USA', 'fighter1ID': '6fb1ba67bef41b37', 'fighter2ID': '07225ba28ae309b6', 'fighter1': 'Nik Lentz', 'fighter2': 'Charles Oliveira', 'nc1': 'Nik Lentz', 'nc2': 'Charles Oliveira', 'weight_class': '2', 'method': '', 'endWith': '', 'roundd': 'Overturned', 'time': '', '__v': 0}\n"
     ]
    },
    {
     "data": {
      "text/plain": [
       "[{'winner': 'Charles Oliveira',\n",
       "  'loser': 'Efrain Escudero',\n",
       "  'date': '2010-09-14',\n",
       "  'method': 'SUB'},\n",
       " {'winner': 'Charles Oliveira',\n",
       "  'loser': 'Darren Elkins',\n",
       "  'date': '2010-07-31',\n",
       "  'method': 'SUB'},\n",
       " {'winner': 'Charles Oliveira',\n",
       "  'loser': 'Jonathan Brookins',\n",
       "  'date': '2012-05-31',\n",
       "  'method': 'SUB'},\n",
       " {'winner': 'Charles Oliveira',\n",
       "  'loser': 'Eric Wisely',\n",
       "  'date': '2012-01-27',\n",
       "  'method': 'SUB'},\n",
       " {'winner': 'Charles Oliveira',\n",
       "  'loser': 'Andy Ogle',\n",
       "  'date': '2014-02-14',\n",
       "  'method': 'SUB'},\n",
       " {'winner': 'Charles Oliveira',\n",
       "  'loser': 'Hatsu Hioki',\n",
       "  'date': '2014-06-27',\n",
       "  'method': 'SUB'},\n",
       " {'winner': 'Charles Oliveira',\n",
       "  'loser': 'Jeremy Stephens',\n",
       "  'date': '2014-12-11',\n",
       "  'method': 'U-DEC'},\n",
       " {'winner': 'Charles Oliveira',\n",
       "  'loser': 'Nik Lentz',\n",
       "  'date': '2015-05-29',\n",
       "  'method': 'SUB'},\n",
       " {'winner': 'Charles Oliveira',\n",
       "  'loser': 'Myles Jury',\n",
       "  'date': '2015-12-18',\n",
       "  'method': 'SUB'},\n",
       " {'winner': 'Charles Oliveira',\n",
       "  'loser': 'Will Brooks',\n",
       "  'date': '2017-04-07',\n",
       "  'method': 'SUB'},\n",
       " {'winner': 'Charles Oliveira',\n",
       "  'loser': 'Clay Guida',\n",
       "  'date': '2018-06-08',\n",
       "  'method': 'SUB'},\n",
       " {'winner': 'Charles Oliveira',\n",
       "  'loser': 'Christos Giagos',\n",
       "  'date': '2018-09-21',\n",
       "  'method': 'SUB'},\n",
       " {'winner': 'Charles Oliveira',\n",
       "  'loser': 'Jim Miller',\n",
       "  'date': '2018-12-14',\n",
       "  'method': 'SUB'},\n",
       " {'winner': 'Charles Oliveira',\n",
       "  'loser': 'David Teymur',\n",
       "  'date': '2019-02-01',\n",
       "  'method': 'SUB'},\n",
       " {'winner': 'Charles Oliveira',\n",
       "  'loser': 'Nik Lentz',\n",
       "  'date': '2019-05-17',\n",
       "  'method': 'KO/TKO'},\n",
       " {'winner': 'Charles Oliveira',\n",
       "  'loser': 'Jared Gordon',\n",
       "  'date': '2019-11-15',\n",
       "  'method': 'KO/TKO'},\n",
       " {'winner': 'Charles Oliveira',\n",
       "  'loser': 'Kevin Lee',\n",
       "  'date': '2020-03-13',\n",
       "  'method': 'SUB'},\n",
       " {'winner': 'Charles Oliveira',\n",
       "  'loser': 'Tony Ferguson',\n",
       "  'date': '2020-12-11',\n",
       "  'method': 'U-DEC'},\n",
       " {'winner': 'Charles Oliveira',\n",
       "  'loser': 'Michael Chandler',\n",
       "  'date': '2021-05-14',\n",
       "  'method': 'KO/TKO'},\n",
       " {'winner': 'Charles Oliveira',\n",
       "  'loser': 'Dustin Poirier',\n",
       "  'date': '2021-12-10',\n",
       "  'method': 'SUB'},\n",
       " {'winner': 'Charles Oliveira',\n",
       "  'loser': 'Justin Gaethje',\n",
       "  'date': '2022-05-06',\n",
       "  'method': 'SUB'},\n",
       " {'winner': 'Charles Oliveira',\n",
       "  'loser': 'Beneil Dariush',\n",
       "  'date': '2023-06-09',\n",
       "  'method': 'KO/TKO'},\n",
       " {'winner': 'Charles Oliveira',\n",
       "  'loser': 'Michael Chandler',\n",
       "  'date': '2024-11-15',\n",
       "  'method': 'U-DEC'},\n",
       " {'winner': 'Jim Miller',\n",
       "  'loser': 'Charles Oliveira',\n",
       "  'date': '2010-12-10',\n",
       "  'method': 'SUB'},\n",
       " {'winner': 'Donald Cerrone',\n",
       "  'loser': 'Charles Oliveira',\n",
       "  'date': '2011-08-13',\n",
       "  'method': 'KO/TKO'},\n",
       " {'winner': 'Cub Swanson',\n",
       "  'loser': 'Charles Oliveira',\n",
       "  'date': '2012-09-21',\n",
       "  'method': 'KO/TKO'},\n",
       " {'winner': 'Frankie Edgar',\n",
       "  'loser': 'Charles Oliveira',\n",
       "  'date': '2013-07-05',\n",
       "  'method': 'U-DEC'},\n",
       " {'winner': 'Max Holloway',\n",
       "  'loser': 'Charles Oliveira',\n",
       "  'date': '2015-08-22',\n",
       "  'method': 'KO/TKO'},\n",
       " {'winner': 'Anthony Pettis',\n",
       "  'loser': 'Charles Oliveira',\n",
       "  'date': '2016-08-26',\n",
       "  'method': 'SUB'},\n",
       " {'winner': 'Ricardo Lamas',\n",
       "  'loser': 'Charles Oliveira',\n",
       "  'date': '2016-11-04',\n",
       "  'method': 'SUB'},\n",
       " {'winner': 'Paul Felder',\n",
       "  'loser': 'Charles Oliveira',\n",
       "  'date': '2017-12-01',\n",
       "  'method': 'KO/TKO'},\n",
       " {'winner': 'Islam Makhachev',\n",
       "  'loser': 'Charles Oliveira',\n",
       "  'date': '2022-10-21',\n",
       "  'method': 'SUB'},\n",
       " {'winner': 'Arman Tsarukyan',\n",
       "  'loser': 'Charles Oliveira',\n",
       "  'date': '2024-04-12',\n",
       "  'method': 'S-DEC'}]"
      ]
     },
     "execution_count": 5,
     "metadata": {},
     "output_type": "execute_result"
    }
   ],
   "source": [
    "API_GetFightsForFighter(\"Charles Oliveira\")"
   ]
  },
  {
   "cell_type": "markdown",
   "id": "8e6e299f",
   "metadata": {},
   "source": [
    "<h1> Translate API Data into our storage format </h1>"
   ]
  },
  {
   "cell_type": "code",
   "execution_count": null,
   "id": "eeb3b965",
   "metadata": {},
   "outputs": [],
   "source": []
  },
  {
   "cell_type": "code",
   "execution_count": null,
   "id": "0e706d38",
   "metadata": {},
   "outputs": [],
   "source": []
  },
  {
   "cell_type": "markdown",
   "id": "e23e1825",
   "metadata": {},
   "source": [
    "<h1> UFC Scraper to get all UFC Fighter names </h1>"
   ]
  },
  {
   "cell_type": "markdown",
   "id": "3fa93f38",
   "metadata": {},
   "source": [
    "NOTES\n",
    "\n",
    "\n",
    "* Main table \n",
    "    <table class=\"b-statistics__table\">\n",
    "    </table>\n",
    "\n",
    "* Each row\n",
    "      <tr class=\"b-statistics__table-row\">\n",
    "        <td class=\"b-statistics__table-col\">\n",
    "          <a href=\"http://ufcstats.com/fighter-details/841695e02c99a521\" class=\"b-link b-link_style_black\">Mansur</a>\n",
    "        </td>\n",
    "        <td class=\"b-statistics__table-col\">\n",
    "          <a href=\"http://ufcstats.com/fighter-details/841695e02c99a521\" class=\"b-link b-link_style_black\">Abdul-Malik</a>\n",
    "        </td>\n",
    "        .\n",
    "        .\n",
    "        .\n",
    "      </tr>\n",
    "    \n",
    "\n",
    "  So i notice that inside of the table, inside of each row, First entry is first name, second is last name\n",
    "\n",
    "  * PAGINATION\n",
    "  http://ufcstats.com/statistics/fighters?char=a\n",
    "  http://ufcstats.com/statistics/fighters?char=b\n",
    "  \n",
    "  ... and so on\n"
   ]
  },
  {
   "cell_type": "markdown",
   "id": "8f0a0b1e",
   "metadata": {},
   "source": [
    "<h1> Roster.watch Scraper to get all fighter names </h1>"
   ]
  },
  {
   "cell_type": "markdown",
   "id": "6987b923",
   "metadata": {},
   "source": [
    "NOTES:\n",
    "\n",
    "* Core Table\n",
    "    <div class=\"rt-tbody\" role=\"rowgroup\" style=\"min-width: 1630px;\">\n",
    "\n",
    "* Each row\n",
    "<div class=\"rt-tr rt-tr-striped\" role=\"row\" style=\"flex: 1 0 auto; min-width: 1630px;\">\n",
    "    <div class=\"rt-td rt-align-left rt-valign-center\" role=\"cell\" style=\"flex: 200 0 auto; min-width: 200px; width: 200px; font-family: Kanit; font-size: 15px;\">\n",
    "    <div class=\"rt-td-inner\">\n",
    "    <div class=\"rt-text-content\" style=\"display: inline;\">\n",
    "    <a href=\"/fighters/islammakhachev.html\">Islam Makhachev</a>\n",
    "    </div>\n",
    "    </div>\n",
    "    </div>\n",
    "\n",
    "So table is \"rt-tbody\"\n",
    "\n",
    "    "
   ]
  },
  {
   "cell_type": "markdown",
   "id": "c9681ab2",
   "metadata": {},
   "source": [
    "<h1> Wikipedia List of current UFC Fighters </h1>"
   ]
  },
  {
   "cell_type": "markdown",
   "id": "05947089",
   "metadata": {},
   "source": [
    "1) Find \"<\\h3> id=\"Heavyweights_(265lb,_120_kg)>\"\n",
    "that is the start of our search. From here below\n",
    "2) Then each table class is \"wikitable sortable jquery-tablesorter\"\n",
    "3) Then each row <\\tr>\n",
    "4) Then for each row, find the second <\\td>\n",
    "    then look for <\\span data-sort-value=\"LASTNAME,FIRSTNAME\">"
   ]
  },
  {
   "cell_type": "markdown",
   "id": "2852a2bc",
   "metadata": {},
   "source": [
    "<h2> Step 1: Load and Parse Page </h2>"
   ]
  },
  {
   "cell_type": "code",
   "execution_count": 2,
   "id": "1b359ff4",
   "metadata": {},
   "outputs": [
    {
     "name": "stdout",
     "output_type": "stream",
     "text": [
      "List of current UFC fighters - Wikipedia\n"
     ]
    }
   ],
   "source": [
    "import requests\n",
    "from bs4 import BeautifulSoup\n",
    "\n",
    "# Step 1: Load the page\n",
    "url = \"https://en.wikipedia.org/wiki/List_of_current_UFC_fighters\"\n",
    "response = requests.get(url)\n",
    "\n",
    "# Step 2: Parse with BeautifulSoup\n",
    "soup = BeautifulSoup(response.text, 'html.parser')\n",
    "\n",
    "# Step 3: Test - print the page title\n",
    "print(soup.title.string)\n"
   ]
  },
  {
   "cell_type": "code",
   "execution_count": 3,
   "id": "d413b83b",
   "metadata": {},
   "outputs": [
    {
     "name": "stdout",
     "output_type": "stream",
     "text": [
      "Found header: Heavyweights (265lb, 120 kg)\n"
     ]
    }
   ],
   "source": [
    "#Now we find our anchor point, from this point on, we care about all the tables\n",
    "\n",
    "# Step 1: Find the span with the ID for heavyweights\n",
    "heavyweights_header = soup.find('h3', id=\"Heavyweights_(265lb,_120_kg)\")\n",
    "\n",
    "# Step 2: Print it to confirm we got it\n",
    "print(\"Found header:\", heavyweights_header.text)\n"
   ]
  },
  {
   "cell_type": "code",
   "execution_count": 4,
   "id": "86e961b2",
   "metadata": {},
   "outputs": [
    {
     "name": "stdout",
     "output_type": "stream",
     "text": [
      "Found 11 fighter tables.\n"
     ]
    }
   ],
   "source": [
    "tables = []\n",
    "\n",
    "# Start scanning after the Heavyweights header\n",
    "for sibling in heavyweights_header.find_parent().next_siblings:\n",
    "    # Stop if we hit another h2 (a new major section like \"See also\", \"References\", etc.)\n",
    "    if sibling.name == 'h2':\n",
    "        break\n",
    "\n",
    "    # We're only interested in table tags\n",
    "    if sibling.name == 'table' and 'wikitable' in sibling.get('class', []):\n",
    "        tables.append(sibling)\n",
    "\n",
    "print(f\"Found {len(tables)} fighter tables.\")\n"
   ]
  },
  {
   "cell_type": "code",
   "execution_count": 5,
   "id": "0d96f817",
   "metadata": {},
   "outputs": [
    {
     "name": "stdout",
     "output_type": "stream",
     "text": [
      "Collected 351 fighter names.\n",
      "['Derrick Lewis', 'Curtis Blaydes', 'Marcin Tybura', 'Alexander Volkov', 'Tai Tuivasa', 'Ryan Spann', 'Sergei Pavlovich', 'Kennedy Nzechukwu', 'Serghei Spivac', 'Ciryl Gane']\n"
     ]
    }
   ],
   "source": [
    "fighter_names = []\n",
    "\n",
    "for table in tables:\n",
    "    rows = table.find_all('tr')[1:]  # Skip header row\n",
    "    for row in rows:\n",
    "        cells = row.find_all('td')\n",
    "        if len(cells) >= 2:\n",
    "            name_cell = cells[1]\n",
    "            span = name_cell.find('span', attrs={'data-sort-value': True})\n",
    "            if span:\n",
    "                raw_name = span['data-sort-value']  # Format: LAST,FIRST\n",
    "                last, first = raw_name.split(',', 1)\n",
    "                full_name = f\"{first.strip()} {last.strip()}\"\n",
    "                fighter_names.append(full_name)\n",
    "\n",
    "# Quick check\n",
    "print(f\"Collected {len(fighter_names)} fighter names.\")\n",
    "print(fighter_names[:10])\n"
   ]
  },
  {
   "cell_type": "code",
   "execution_count": 6,
   "id": "9389dc17",
   "metadata": {},
   "outputs": [
    {
     "name": "stdout",
     "output_type": "stream",
     "text": [
      "351\n"
     ]
    }
   ],
   "source": [
    "print(len(fighter_names))"
   ]
  },
  {
   "cell_type": "code",
   "execution_count": 7,
   "id": "ad6750cf",
   "metadata": {},
   "outputs": [
    {
     "name": "stdout",
     "output_type": "stream",
     "text": [
      "Saved 351 names to ufc_fighter_names.csv\n"
     ]
    }
   ],
   "source": [
    "import csv\n",
    "\n",
    "# Set output file name\n",
    "filename = \"ufc_fighter_names.csv\"\n",
    "\n",
    "# Open the file in write mode\n",
    "with open(filename, mode='w', newline='', encoding='utf-8') as file:\n",
    "    writer = csv.writer(file)\n",
    "    writer.writerow(['Name'])  # Header row\n",
    "    for name in fighter_names:\n",
    "        writer.writerow([name])\n",
    "\n",
    "print(f\"Saved {len(fighter_names)} names to {filename}\")\n"
   ]
  }
 ],
 "metadata": {
  "kernelspec": {
   "display_name": "Python 3",
   "language": "python",
   "name": "python3"
  },
  "language_info": {
   "codemirror_mode": {
    "name": "ipython",
    "version": 3
   },
   "file_extension": ".py",
   "mimetype": "text/x-python",
   "name": "python",
   "nbconvert_exporter": "python",
   "pygments_lexer": "ipython3",
   "version": "3.12.1"
  }
 },
 "nbformat": 4,
 "nbformat_minor": 5
}
