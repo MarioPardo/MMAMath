{
 "cells": [
  {
   "cell_type": "markdown",
   "id": "735df2d1",
   "metadata": {},
   "source": [
    "This file will be used for testing,and playing around with the graph side of thigs"
   ]
  },
  {
   "cell_type": "markdown",
   "id": "ddeea68d",
   "metadata": {},
   "source": [
    "<h2> Imports </h2>"
   ]
  },
  {
   "cell_type": "code",
   "execution_count": 1,
   "id": "fa4f23aa",
   "metadata": {},
   "outputs": [],
   "source": [
    "import datautilities"
   ]
  },
  {
   "cell_type": "code",
   "execution_count": 2,
   "id": "148c485a",
   "metadata": {},
   "outputs": [
    {
     "data": {
      "text/plain": [
       "<module 'datautilities' from '/workspaces/MMAMath/datautilities.py'>"
      ]
     },
     "execution_count": 2,
     "metadata": {},
     "output_type": "execute_result"
    }
   ],
   "source": [
    "import importlib\n",
    "\n",
    "importlib.reload(datautilities)"
   ]
  },
  {
   "cell_type": "markdown",
   "id": "4a2000dd",
   "metadata": {},
   "source": [
    "First let's add a couple of fights and fighters so we can play around with our graph\n"
   ]
  },
  {
   "cell_type": "code",
   "execution_count": null,
   "id": "d78ab82d",
   "metadata": {},
   "outputs": [
    {
     "name": "stdout",
     "output_type": "stream",
     "text": [
      "Fight already exists: Charles Oliveira vs Justin Gaethje on 2025-05-7\n",
      "Fight already exists: Max Holloway vs Dustin Poirier on 2019-04-13\n",
      "Fighter 'Charles Oliveira' already exists with ID 4599270\n",
      "Added fighter 'Michael Chandler' with ID 836736\n",
      " Fight added: Charles Oliveira vs Michael Chandler on 2021-05-15 (KO/TKO)\n",
      "Added fighter 'Alexander Volkanovski' with ID 530033\n",
      "Fighter 'Max Holloway' already exists with ID 6724380\n",
      " Fight added: Alexander Volkanovski vs Max Holloway on 2020-07-11 (UDEC)\n"
     ]
    }
   ],
   "source": [
    "datautilities.AddFight(\"Charles Oliveira\", \"Justin Gaethje\", \"2025-05-7\",\"SUB\")\n",
    "datautilities.AddFight(\"Max Holloway\", \"Dustin Poirier\", \"2019-04-13\",\"UDEC\")\n",
    "datautilities.AddFight(\"Charles Oliveira\", \"Michael Chandler\", \"2021-05-15\",\"KO/TKO\")\n",
    "datautilities.AddFight(\"Alexander Volkanovski\",\"Max Holloway\", \"2020-07-11\",\"UDEC\")\n",
    "datautilities.AddFight(\"Justin Gaethje\",\"Dustin Poirier\", \"2022-07-29\",\"KO/TKO\")\n",
    "datautilities.AddFight(\"Charles Oliveira\", \"Dustin Poirier\", \"2021-12-11\",\"SUB\")\n",
    "datauutilities.AddFight(\"Justin Gaethje\", \"Michael Chandler\", \"2021-05-15\",\"UDEC\")\n",
    "datautilities.AddFight(\"Dustin Poirier\",\"Jutin Gaethje\" , \"2018-04-14\",\"KO/TKO\")\n"
   ]
  },
  {
   "cell_type": "code",
   "execution_count": null,
   "id": "e7d0c1fc",
   "metadata": {},
   "outputs": [],
   "source": []
  },
  {
   "cell_type": "code",
   "execution_count": null,
   "id": "6605cd6d",
   "metadata": {},
   "outputs": [],
   "source": []
  },
  {
   "cell_type": "code",
   "execution_count": null,
   "id": "c2cd01f0",
   "metadata": {},
   "outputs": [],
   "source": []
  },
  {
   "cell_type": "code",
   "execution_count": null,
   "id": "bebc945d",
   "metadata": {},
   "outputs": [],
   "source": []
  }
 ],
 "metadata": {
  "kernelspec": {
   "display_name": "Python 3",
   "language": "python",
   "name": "python3"
  },
  "language_info": {
   "codemirror_mode": {
    "name": "ipython",
    "version": 3
   },
   "file_extension": ".py",
   "mimetype": "text/x-python",
   "name": "python",
   "nbconvert_exporter": "python",
   "pygments_lexer": "ipython3",
   "version": "3.12.1"
  }
 },
 "nbformat": 4,
 "nbformat_minor": 5
}
