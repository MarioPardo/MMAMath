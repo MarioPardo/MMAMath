{
 "cells": [
  {
   "cell_type": "markdown",
   "id": "735df2d1",
   "metadata": {},
   "source": [
    "This file will be used for testing,and playing around with the graph side of thigs"
   ]
  },
  {
   "cell_type": "markdown",
   "id": "ddeea68d",
   "metadata": {},
   "source": [
    "<h2> Imports </h2>"
   ]
  },
  {
   "cell_type": "code",
   "execution_count": 1,
   "id": "fa4f23aa",
   "metadata": {},
   "outputs": [],
   "source": [
    "import datautilities\n",
    "from datetime import datetime"
   ]
  },
  {
   "cell_type": "code",
   "execution_count": 2,
   "id": "148c485a",
   "metadata": {},
   "outputs": [
    {
     "data": {
      "text/plain": [
       "<module 'datautilities' from '/home/mariop/Documents/Programming/MMAMath/datautilities.py'>"
      ]
     },
     "execution_count": 2,
     "metadata": {},
     "output_type": "execute_result"
    }
   ],
   "source": [
    "import importlib\n",
    "\n",
    "importlib.reload(datautilities)"
   ]
  },
  {
   "cell_type": "markdown",
   "id": "4a2000dd",
   "metadata": {},
   "source": [
    "First let's add a couple of fights and fighters so we can play around with our graph\n"
   ]
  },
  {
   "cell_type": "code",
   "execution_count": 3,
   "id": "d78ab82d",
   "metadata": {},
   "outputs": [
    {
     "name": "stdout",
     "output_type": "stream",
     "text": [
      "Fight already exists: Charles Oliveira vs Justin Gaethje on 2025-05-7\n",
      "Fight already exists: Dustin Poirier vs Max Holloway on 2019-04-13\n",
      "Fight already exists: Charles Oliveira vs Michael Chandler on 2021-05-15\n",
      "Fight already exists: Alexander Volkanovski vs Max Holloway on 2020-07-11\n",
      "Fight already exists: Justin Gaethje vs Dustin Poirier on 2022-07-29\n",
      "Fight already exists: Charles Oliveira vs Dustin Poirier on 2021-12-11\n",
      "Fight already exists: Justin Gaethje vs Michael Chandler on 2021-05-15\n",
      "Fight already exists: Dustin Poirier vs Justin Gaethje on 2018-04-14\n",
      "Fight already exists: Alexander Volkanovski vs Max Holloway on 2022-07-02\n",
      "Fight already exists: Max Holloway vs Dustin Gaethje on 2024-04-13\n",
      "Fight already exists: Paddy Pimblett vs Michael Chandler on 2025-04-12\n",
      "Fight already exists: Ilia Topuria vs Alexander Volkanovski on 2024-02-17\n",
      "Fight already exists: Ilia Topuria vs Max Holloway on 2024-10-26\n"
     ]
    }
   ],
   "source": [
    "datautilities.AddFight(\"Charles Oliveira\", \"Justin Gaethje\", \"2025-05-7\",\"SUB\")\n",
    "datautilities.AddFight(\"Dustin Poirier\",\"Max Holloway\", \"2019-04-13\",\"UDEC\")\n",
    "datautilities.AddFight(\"Charles Oliveira\", \"Michael Chandler\", \"2021-05-15\",\"KO/TKO\")\n",
    "datautilities.AddFight(\"Alexander Volkanovski\",\"Max Holloway\", \"2020-07-11\",\"UDEC\")\n",
    "datautilities.AddFight(\"Justin Gaethje\",\"Dustin Poirier\", \"2022-07-29\",\"KO/TKO\")\n",
    "datautilities.AddFight(\"Charles Oliveira\", \"Dustin Poirier\", \"2021-12-11\",\"SUB\")\n",
    "datautilities.AddFight(\"Justin Gaethje\", \"Michael Chandler\", \"2021-05-15\",\"UDEC\")\n",
    "datautilities.AddFight(\"Dustin Poirier\",\"Justin Gaethje\" , \"2018-04-14\",\"KO/TKO\")\n",
    "datautilities.AddFight(\"Alexander Volkanovski\",\"Max Holloway\", \"2022-07-02\",\"UDEC\")\n",
    "datautilities.AddFight(\"Max Holloway\", \"Dustin Gaethje\", \"2024-04-13\",\"KO/TKO\")\n",
    "datautilities.AddFight(\"Paddy Pimblett\", \"Michael Chandler\", \"2025-04-12\",\"SUB\")\n",
    "datautilities.AddFight(\"Ilia Topuria\", \"Alexander Volkanovski\", \"2024-02-17\", \"KO/TKO\")\n",
    "datautilities.AddFight(\"Ilia Topuria\", \"Max Holloway\", \"2024-10-26\", \"KO/TKO\")"
   ]
  },
  {
   "cell_type": "markdown",
   "id": "c2cd01f0",
   "metadata": {},
   "source": [
    "<h1> Create Graph </h1>"
   ]
  },
  {
   "cell_type": "code",
   "execution_count": 15,
   "id": "bebc945d",
   "metadata": {},
   "outputs": [],
   "source": [
    "import networkx as nx\n",
    "\n",
    "G = nx.Graph()"
   ]
  },
  {
   "cell_type": "code",
   "execution_count": 16,
   "id": "8f60a718",
   "metadata": {},
   "outputs": [],
   "source": [
    "#Add all fighters to graph\n",
    "for fighter in datautilities.get_all_fighter_names():\n",
    "    G.add_node(fighter)"
   ]
  },
  {
   "cell_type": "code",
   "execution_count": 38,
   "id": "c69e1a18",
   "metadata": {},
   "outputs": [
    {
     "name": "stdout",
     "output_type": "stream",
     "text": [
      "Adding edge: winner:Charles Oliveira loser: Justin Gaethje result: SUB date: 2025-05-7\n",
      "Adding edge: winner:Dustin Poirier loser: Max Holloway result: UDEC date: 2019-04-13\n",
      "Adding edge: winner:Charles Oliveira loser: Michael Chandler result: KO/TKO date: 2021-05-15\n",
      "Adding edge: winner:Alexander Volkanovski loser: Max Holloway result: UDEC date: 2020-07-11\n",
      "Adding edge: winner:Justin Gaethje loser: Dustin Poirier result: KO/TKO date: 2022-07-29\n",
      "Adding edge: winner:Charles Oliveira loser: Dustin Poirier result: SUB date: 2021-12-11\n",
      "Adding edge: winner:Justin Gaethje loser: Michael Chandler result: UDEC date: 2021-05-15\n",
      "Adding edge: winner:Dustin Poirier loser: Justin Gaethje result: KO/TKO date: 2018-04-14\n",
      "Adding edge: winner:Alexander Volkanovski loser: Max Holloway result: UDEC date: 2022-07-02\n",
      "Adding edge: winner:Max Holloway loser: Dustin Gaethje result: KO/TKO date: 2024-04-13\n",
      "Adding edge: winner:Paddy Pimblett loser: Michael Chandler result: SUB date: 2025-04-12\n",
      "Adding edge: winner:Ilia Topuria loser: Alexander Volkanovski result: KO/TKO date: 2024-02-17\n",
      "Adding edge: winner:Ilia Topuria loser: Max Holloway result: KO/TKO date: 2024-10-26\n"
     ]
    }
   ],
   "source": [
    "# Add all fights to graph\n",
    "for fight_id, fight_data in datautilities.load_fights().items():\n",
    "    winner = fight_data[\"winner\"]\n",
    "    loser = fight_data[\"loser\"]\n",
    "    date = fight_data[\"date\"]\n",
    "    result = fight_data[\"result\"]\n",
    "\n",
    "    print(\"Adding edge: winner:\" + winner + \" loser: \" + loser + \" result: \" +  datautilities.get_result_from_dict(result) + \" date: \" + date )\n",
    "\n",
    "    G.add_edge(winner, loser,winner = winner, loser = loser, date=date, result=result)\n"
   ]
  },
  {
   "cell_type": "code",
   "execution_count": 39,
   "id": "ff99a0ac",
   "metadata": {},
   "outputs": [
    {
     "name": "stdout",
     "output_type": "stream",
     "text": [
      "Fighters\n",
      "Fighter: Charles Oliveira, Data: {}\n",
      "Fighter: Justin Gaethje, Data: {}\n",
      "Fighter: Dustin Poirier, Data: {}\n",
      "Fighter: Max Holloway, Data: {}\n",
      "Fighter: Michael Chandler, Data: {}\n",
      "Fighter: Alexander Volkanovski, Data: {}\n",
      "Fighter: Dustin Gaethje, Data: {}\n",
      "Fighter: Paddy Pimblett, Data: {}\n",
      "Fighter: Ilia Topuria, Data: {}\n",
      " #---# \n",
      "Fights\n",
      "Fight: Charles Oliveira -> Justin Gaethje, Info: {'date': '2025-05-7', 'result': {'KO/TKO': 0, 'SUB': 1, 'UDEC': 0, 'SDEC': 0, 'MDEC': 0, 'Draw': 0}, 'winner': 'Charles Oliveira', 'loser': 'Justin Gaethje'}\n",
      "Fight: Charles Oliveira -> Michael Chandler, Info: {'date': '2021-05-15', 'result': {'KO/TKO': 1, 'SUB': 0, 'UDEC': 0, 'SDEC': 0, 'MDEC': 0, 'Draw': 0}, 'winner': 'Charles Oliveira', 'loser': 'Michael Chandler'}\n",
      "Fight: Charles Oliveira -> Dustin Poirier, Info: {'date': '2021-12-11', 'result': {'KO/TKO': 0, 'SUB': 1, 'UDEC': 0, 'SDEC': 0, 'MDEC': 0, 'Draw': 0}, 'winner': 'Charles Oliveira', 'loser': 'Dustin Poirier'}\n",
      "Fight: Justin Gaethje -> Dustin Poirier, Info: {'date': '2018-04-14', 'result': {'KO/TKO': 1, 'SUB': 0, 'UDEC': 0, 'SDEC': 0, 'MDEC': 0, 'Draw': 0}, 'winner': 'Dustin Poirier', 'loser': 'Justin Gaethje'}\n",
      "Fight: Justin Gaethje -> Michael Chandler, Info: {'date': '2021-05-15', 'result': {'KO/TKO': 0, 'SUB': 0, 'UDEC': 1, 'SDEC': 0, 'MDEC': 0, 'Draw': 0}, 'winner': 'Justin Gaethje', 'loser': 'Michael Chandler'}\n",
      "Fight: Dustin Poirier -> Max Holloway, Info: {'date': '2019-04-13', 'result': {'KO/TKO': 0, 'SUB': 0, 'UDEC': 1, 'SDEC': 0, 'MDEC': 0, 'Draw': 0}, 'winner': 'Dustin Poirier', 'loser': 'Max Holloway'}\n",
      "Fight: Max Holloway -> Alexander Volkanovski, Info: {'date': '2022-07-02', 'result': {'KO/TKO': 0, 'SUB': 0, 'UDEC': 1, 'SDEC': 0, 'MDEC': 0, 'Draw': 0}, 'winner': 'Alexander Volkanovski', 'loser': 'Max Holloway'}\n",
      "Fight: Max Holloway -> Dustin Gaethje, Info: {'date': '2024-04-13', 'result': {'KO/TKO': 1, 'SUB': 0, 'UDEC': 0, 'SDEC': 0, 'MDEC': 0, 'Draw': 0}, 'winner': 'Max Holloway', 'loser': 'Dustin Gaethje'}\n",
      "Fight: Max Holloway -> Ilia Topuria, Info: {'date': '2024-10-26', 'result': {'KO/TKO': 1, 'SUB': 0, 'UDEC': 0, 'SDEC': 0, 'MDEC': 0, 'Draw': 0}, 'winner': 'Ilia Topuria', 'loser': 'Max Holloway'}\n",
      "Fight: Michael Chandler -> Paddy Pimblett, Info: {'date': '2025-04-12', 'result': {'KO/TKO': 0, 'SUB': 1, 'UDEC': 0, 'SDEC': 0, 'MDEC': 0, 'Draw': 0}, 'winner': 'Paddy Pimblett', 'loser': 'Michael Chandler'}\n",
      "Fight: Alexander Volkanovski -> Ilia Topuria, Info: {'date': '2024-02-17', 'result': {'KO/TKO': 1, 'SUB': 0, 'UDEC': 0, 'SDEC': 0, 'MDEC': 0, 'Draw': 0}, 'winner': 'Ilia Topuria', 'loser': 'Alexander Volkanovski'}\n"
     ]
    }
   ],
   "source": [
    "#Quickly print graph\n",
    "print(\"Fighters\")\n",
    "for node, data in G.nodes(data=True):\n",
    "    print(f\"Fighter: {node}, Data: {data}\")\n",
    "\n",
    "print(\" #---# \")\n",
    "\n",
    "print(\"Fights\")\n",
    "for u, v, data in G.edges(data=True):\n",
    "    print(f\"Fight: {u} -> {v}, Info: {data}\")\n"
   ]
  },
  {
   "cell_type": "markdown",
   "id": "17bc1048",
   "metadata": {},
   "source": [
    "<h3> Built In Traversals </h3>"
   ]
  },
  {
   "cell_type": "code",
   "execution_count": 19,
   "id": "3199121c",
   "metadata": {},
   "outputs": [
    {
     "name": "stdout",
     "output_type": "stream",
     "text": [
      "Paths from Alexander Volkanovski to Dustin Gaethje:\n",
      "Alexander Volkanovski -> Max Holloway -> Dustin Poirier -> Justin Gaethje\n",
      "Alexander Volkanovski -> Max Holloway -> Dustin Poirier -> Charles Oliveira -> Justin Gaethje\n",
      "Alexander Volkanovski -> Max Holloway -> Dustin Poirier -> Charles Oliveira -> Michael Chandler -> Justin Gaethje\n",
      "Alexander Volkanovski -> Ilia Topuria -> Max Holloway -> Dustin Poirier -> Justin Gaethje\n",
      "Alexander Volkanovski -> Ilia Topuria -> Max Holloway -> Dustin Poirier -> Charles Oliveira -> Justin Gaethje\n",
      "Alexander Volkanovski -> Ilia Topuria -> Max Holloway -> Dustin Poirier -> Charles Oliveira -> Michael Chandler -> Justin Gaethje\n"
     ]
    }
   ],
   "source": [
    "# Find paths from Volk to Oliveria\n",
    "VolkGaethjePaths =list(nx.all_simple_paths(G,source=\"Alexander Volkanovski\", target=\"Justin Gaethje\"))\n",
    "\n",
    "print(\"Paths from Alexander Volkanovski to Dustin Gaethje:\")\n",
    "for path in VolkGaethjePaths:\n",
    "    print(\" -> \".join(path))"
   ]
  },
  {
   "cell_type": "code",
   "execution_count": null,
   "id": "4858774c",
   "metadata": {},
   "outputs": [],
   "source": []
  },
  {
   "cell_type": "markdown",
   "id": "35b5460a",
   "metadata": {},
   "source": [
    "<h3> Custom Traversals </h3>"
   ]
  },
  {
   "cell_type": "code",
   "execution_count": 44,
   "id": "27279cca",
   "metadata": {},
   "outputs": [],
   "source": [
    "# Time Bound Traversal, all fights have to be before certain date\n",
    "def DFS_BeforeDate(Graph, source, target, cutoff_date_str):\n",
    "    cutoff_date = datetime.strptime(cutoff_date_str, \"%Y-%m-%d\").date()\n",
    "    all_paths = []\n",
    "\n",
    "    def dfs(current, path):\n",
    "        if current == target:\n",
    "            all_paths.append(list(path))\n",
    "            return\n",
    "        \n",
    "        for neighbor in Graph.neighbors(current):\n",
    "            visited_nodes = {path[0]} | {step[0] for step in path[1:]}\n",
    "            if neighbor in visited_nodes:\n",
    "                continue  # avoid cycles\n",
    "\n",
    "            edge_data = Graph.get_edge_data(current, neighbor)\n",
    "            edge_date = datetime.strptime(edge_data.get(\"date\"), \"%Y-%m-%d\").date()\n",
    "            edge_result = datautilities.get_result_from_dict(edge_data.get(\"result\"))\n",
    "\n",
    "            WL_fromperspective = \"W\"\n",
    "            fight_winner = edge_data.get(\"winner\")\n",
    "  \n",
    "            if(neighbor == fight_winner):\n",
    "                WL_fromperspective = \"L\"\n",
    "            \n",
    "            if(edge_result == \"Draw\"):\n",
    "                WL_fromperspective = \"D\"\n",
    "\n",
    "            # Check if the edge date is before or equal to the cutoff date            \n",
    "            if edge_date <= cutoff_date:\n",
    "                path.append((neighbor,date,edge_result, WL_fromperspective))\n",
    "                #print(f\"Current Node: : {current}  '{WL_fromperspective}', Opponent: {neighbor}, Method: {edge_result}, Date: {edge_date}\")\n",
    "                dfs(neighbor, path)\n",
    "                path.pop()\n",
    "\n",
    "    dfs(source, [source])\n",
    "    return all_paths"
   ]
  },
  {
   "cell_type": "code",
   "execution_count": 43,
   "id": "1da80084",
   "metadata": {},
   "outputs": [],
   "source": [
    "def PrintCustomPaths(paths):\n",
    "    for path in paths:\n",
    "        output = []\n",
    "        for i in range(len(path) - 1):\n",
    "            from_node = path[i][0] if i > 0 else path[0]  # string for the first fighter\n",
    "            to_node, date, result, WL= path[i + 1]           # tuple\n",
    "            segment = f\"{from_node} --{result} {WL} --> {to_node}. {date}\"\n",
    "            output.append(segment)\n",
    "        print(\" | \".join(output))"
   ]
  },
  {
   "cell_type": "code",
   "execution_count": 47,
   "id": "a046a592",
   "metadata": {},
   "outputs": [
    {
     "name": "stdout",
     "output_type": "stream",
     "text": [
      "Paths from Alexander Volkanovski to Justin Gaethje before 2026-01-01:\n",
      "Alexander Volkanovski --UDEC W --> Max Holloway. 2024-10-26 | Max Holloway --UDEC L --> Dustin Poirier. 2024-10-26 | Dustin Poirier --KO/TKO W --> Justin Gaethje. 2024-10-26\n",
      "Alexander Volkanovski --UDEC W --> Max Holloway. 2024-10-26 | Max Holloway --UDEC L --> Dustin Poirier. 2024-10-26 | Dustin Poirier --SUB L --> Charles Oliveira. 2024-10-26 | Charles Oliveira --KO/TKO W --> Michael Chandler. 2024-10-26 | Michael Chandler --UDEC L --> Justin Gaethje. 2024-10-26\n"
     ]
    }
   ],
   "source": [
    "VolkGaethjePathsBefore2026 = DFS_BeforeDate(G, \"Alexander Volkanovski\", \"Justin Gaethje\", \"2024-09-01\")\n",
    "print(\"Paths from Alexander Volkanovski to Justin Gaethje before 2026-01-01:\")\n",
    "PrintCustomPaths(VolkGaethjePathsBefore2026)"
   ]
  },
  {
   "cell_type": "markdown",
   "id": "9255a2f0",
   "metadata": {},
   "source": [
    "<h2> Build Trees from Paths </h2>\n",
    "\n",
    "For example, instead of \n",
    "\n",
    "    a->b->c\n",
    "    a->b->d\n",
    "\n",
    "We will want\n",
    "\n",
    "    a->b\n",
    "       b->c\n",
    "       b->d\n",
    "\n",
    "This will help visualize and better understand relationships"
   ]
  },
  {
   "cell_type": "code",
   "execution_count": null,
   "id": "6e63793b",
   "metadata": {},
   "outputs": [],
   "source": [
    "# Time Bound Traversal, all fights have to be before certain date\n",
    "def DFS_BeforeDate(Graph, source, target, cutoff_date_str):\n",
    "    cutoff_date = datetime.strptime(cutoff_date_str, \"%Y-%m-%d\").date()\n",
    "    all_paths = []\n",
    "\n",
    "    def dfs(current, path, depth = 0):\n",
    "        if current == target:\n",
    "            all_paths.append(list(path))\n",
    "            return\n",
    "        \n",
    "        for neighbor in Graph.neighbors(current):\n",
    "            visited_nodes = {path[0]} | {step[0] for step in path[1:]}\n",
    "            if neighbor in visited_nodes:\n",
    "                continue  # avoid cycles\n",
    "\n",
    "            edge_data = Graph.get_edge_data(current, neighbor)\n",
    "            edge_date = datetime.strptime(edge_data.get(\"date\"), \"%Y-%m-%d\").date()\n",
    "            edge_result = datautilities.get_result_from_dict(edge_data.get(\"result\"))\n",
    "\n",
    "            WL_fromperspective = \"W\"\n",
    "            fight_winner = edge_data.get(\"winner\")\n",
    "  \n",
    "            if(neighbor == fight_winner):\n",
    "                WL_fromperspective = \"L\"\n",
    "            \n",
    "            if(edge_result == \"Draw\"):\n",
    "                WL_fromperspective = \"D\"\n",
    "\n",
    "            # Check if the edge date is before or equal to the cutoff date            \n",
    "            if edge_date <= cutoff_date:\n",
    "                path.append((neighbor,date,edge_result, WL_fromperspective))\n",
    "                #print(f\"Current Node: : {current}  '{WL_fromperspective}', Opponent: {neighbor}, Method: {edge_result}, Date: {edge_date}\")\n",
    "                dfs(neighbor, path)\n",
    "                path.pop()\n",
    "\n",
    "    dfs(source, [source])\n",
    "    return all_paths"
   ]
  },
  {
   "cell_type": "code",
   "execution_count": null,
   "id": "0fa41a71",
   "metadata": {},
   "outputs": [],
   "source": []
  },
  {
   "cell_type": "markdown",
   "id": "0ade64cf",
   "metadata": {},
   "source": [
    "<H2> Start scoring fights and paths </h2>"
   ]
  },
  {
   "cell_type": "markdown",
   "id": "694301d5",
   "metadata": {},
   "source": []
  }
 ],
 "metadata": {
  "kernelspec": {
   "display_name": "Python 3",
   "language": "python",
   "name": "python3"
  },
  "language_info": {
   "codemirror_mode": {
    "name": "ipython",
    "version": 3
   },
   "file_extension": ".py",
   "mimetype": "text/x-python",
   "name": "python",
   "nbconvert_exporter": "python",
   "pygments_lexer": "ipython3",
   "version": "3.12.3"
  }
 },
 "nbformat": 4,
 "nbformat_minor": 5
}
