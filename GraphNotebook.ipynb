{
 "cells": [
  {
   "cell_type": "markdown",
   "id": "735df2d1",
   "metadata": {},
   "source": [
    "This file will be used for testing,and playing around with the graph side of thigs"
   ]
  },
  {
   "cell_type": "markdown",
   "id": "ddeea68d",
   "metadata": {},
   "source": [
    "<h2> Imports </h2>"
   ]
  },
  {
   "cell_type": "code",
   "execution_count": 1,
   "id": "fa4f23aa",
   "metadata": {},
   "outputs": [],
   "source": [
    "import datautilities\n",
    "from datetime import datetime"
   ]
  },
  {
   "cell_type": "code",
   "execution_count": 2,
   "id": "148c485a",
   "metadata": {},
   "outputs": [
    {
     "data": {
      "text/plain": [
       "<module 'datautilities' from '/workspaces/MMAMath/datautilities.py'>"
      ]
     },
     "execution_count": 2,
     "metadata": {},
     "output_type": "execute_result"
    }
   ],
   "source": [
    "import importlib\n",
    "\n",
    "importlib.reload(datautilities)"
   ]
  },
  {
   "cell_type": "markdown",
   "id": "4a2000dd",
   "metadata": {},
   "source": [
    "First let's add a couple of fights and fighters so we can play around with our graph\n"
   ]
  },
  {
   "cell_type": "code",
   "execution_count": 3,
   "id": "6d9fbe4d",
   "metadata": {},
   "outputs": [
    {
     "name": "stdout",
     "output_type": "stream",
     "text": [
      "Added fighter 'Charles Oliveira' with ID 3923981\n",
      "Added fighter 'Justin Gaethje' with ID 6322537\n",
      " Fight added: Charles Oliveira vs Justin Gaethje on 2025-05-07 (SUB)\n",
      "Added fighter 'Dustin Poirier' with ID 5829328\n",
      "Added fighter 'Max Holloway' with ID 2321883\n",
      " Fight added: Dustin Poirier vs Max Holloway on 2019-04-13 (UDEC)\n"
     ]
    }
   ],
   "source": [
    "datautilities.AddFight(\"Charles Oliveira\", \"Justin Gaethje\", \"2025-05-07\",\"SUB\")\n",
    "datautilities.AddFight(\"Dustin Poirier\",\"Max Holloway\", \"2019-04-13\",\"UDEC\")\n"
   ]
  },
  {
   "cell_type": "code",
   "execution_count": 4,
   "id": "d78ab82d",
   "metadata": {},
   "outputs": [
    {
     "name": "stdout",
     "output_type": "stream",
     "text": [
      "Fight already exists: Charles Oliveira vs Justin Gaethje on 2025-05-07\n",
      "Fight already exists: Dustin Poirier vs Max Holloway on 2019-04-13\n",
      "Fighter 'Charles Oliveira' already exists with ID 3923981\n",
      "Added fighter 'Michael Chandler' with ID 3580924\n",
      " Fight added: Charles Oliveira vs Michael Chandler on 2021-05-15 (KO/TKO)\n",
      "Added fighter 'Alexander Volkanovski' with ID 101281\n",
      "Fighter 'Max Holloway' already exists with ID 2321883\n",
      " Fight added: Alexander Volkanovski vs Max Holloway on 2020-07-11 (UDEC)\n",
      "Fighter 'Justin Gaethje' already exists with ID 6322537\n",
      "Fighter 'Dustin Poirier' already exists with ID 5829328\n",
      " Fight added: Justin Gaethje vs Dustin Poirier on 2022-07-29 (KO/TKO)\n",
      "Fighter 'Charles Oliveira' already exists with ID 3923981\n",
      "Fighter 'Dustin Poirier' already exists with ID 5829328\n",
      " Fight added: Charles Oliveira vs Dustin Poirier on 2021-12-11 (SUB)\n",
      "Fighter 'Justin Gaethje' already exists with ID 6322537\n",
      "Fighter 'Michael Chandler' already exists with ID 3580924\n",
      " Fight added: Justin Gaethje vs Michael Chandler on 2021-05-15 (UDEC)\n",
      "Fighter 'Dustin Poirier' already exists with ID 5829328\n",
      "Fighter 'Justin Gaethje' already exists with ID 6322537\n",
      " Fight added: Dustin Poirier vs Justin Gaethje on 2018-04-14 (KO/TKO)\n",
      "Fighter 'Alexander Volkanovski' already exists with ID 101281\n",
      "Fighter 'Max Holloway' already exists with ID 2321883\n",
      " Fight added: Alexander Volkanovski vs Max Holloway on 2022-07-02 (UDEC)\n",
      "Fighter 'Charles Oliveira' already exists with ID 3923981\n",
      "Fighter 'Michael Chandler' already exists with ID 3580924\n",
      " Fight added: Charles Oliveira vs Michael Chandler on 2024-11-16 (UDEC)\n",
      "Fighter 'Max Holloway' already exists with ID 2321883\n",
      "Fighter 'Justin Gaethje' already exists with ID 6322537\n",
      " Fight added: Max Holloway vs Justin Gaethje on 2024-04-13 (KO/TKO)\n",
      "Added fighter 'Paddy Pimblett' with ID 3702753\n",
      "Fighter 'Michael Chandler' already exists with ID 3580924\n",
      " Fight added: Paddy Pimblett vs Michael Chandler on 2025-04-12 (SUB)\n",
      "Added fighter 'Ilia Topuria' with ID 789306\n",
      "Fighter 'Alexander Volkanovski' already exists with ID 101281\n",
      " Fight added: Ilia Topuria vs Alexander Volkanovski on 2024-02-17 (KO/TKO)\n",
      "Fighter 'Ilia Topuria' already exists with ID 789306\n",
      "Fighter 'Max Holloway' already exists with ID 2321883\n",
      " Fight added: Ilia Topuria vs Max Holloway on 2024-10-26 (KO/TKO)\n",
      "Fighter 'Justin Gaethje' already exists with ID 6322537\n",
      "Added fighter 'Rafeal Fiziev' with ID 2680121\n",
      " Fight added: Justin Gaethje vs Rafeal Fiziev on 2025-03-08 (MDEC)\n",
      "Fighter 'Justin Gaethje' already exists with ID 6322537\n",
      "Fighter 'Michael Chandler' already exists with ID 3580924\n",
      " Fight added: Justin Gaethje vs Michael Chandler on 2023-03-18 (UDEC)\n"
     ]
    }
   ],
   "source": [
    "datautilities.AddFight(\"Charles Oliveira\", \"Justin Gaethje\", \"2025-05-07\",\"SUB\")\n",
    "datautilities.AddFight(\"Dustin Poirier\",\"Max Holloway\", \"2019-04-13\",\"UDEC\")\n",
    "datautilities.AddFight(\"Charles Oliveira\", \"Michael Chandler\", \"2021-05-15\",\"KO/TKO\")\n",
    "datautilities.AddFight(\"Alexander Volkanovski\",\"Max Holloway\", \"2020-07-11\",\"UDEC\")\n",
    "datautilities.AddFight(\"Justin Gaethje\",\"Dustin Poirier\", \"2022-07-29\",\"KO/TKO\")\n",
    "datautilities.AddFight(\"Charles Oliveira\", \"Dustin Poirier\", \"2021-12-11\",\"SUB\")\n",
    "datautilities.AddFight(\"Justin Gaethje\", \"Michael Chandler\", \"2021-05-15\",\"UDEC\")\n",
    "datautilities.AddFight(\"Dustin Poirier\",\"Justin Gaethje\" , \"2018-04-14\",\"KO/TKO\")\n",
    "datautilities.AddFight(\"Alexander Volkanovski\",\"Max Holloway\", \"2022-07-02\",\"UDEC\")\n",
    "datautilities.AddFight(\"Charles Oliveira\", \"Michael Chandler\", \"2024-11-16\", \"UDEC\")\n",
    "datautilities.AddFight(\"Max Holloway\", \"Justin Gaethje\", \"2024-04-13\",\"KO/TKO\")\n",
    "datautilities.AddFight(\"Paddy Pimblett\", \"Michael Chandler\", \"2025-04-12\",\"SUB\")\n",
    "datautilities.AddFight(\"Ilia Topuria\", \"Alexander Volkanovski\", \"2024-02-17\", \"KO/TKO\")\n",
    "datautilities.AddFight(\"Ilia Topuria\", \"Max Holloway\", \"2024-10-26\", \"KO/TKO\")\n",
    "\n",
    "datautilities.AddFight(\"Justin Gaethje\", \"Rafeal Fiziev\", \"2025-03-08\", \"MDEC\")\n",
    "datautilities.AddFight(\"Justin Gaethje\", \"Michael Chandler\", \"2023-03-18\", \"UDEC\")"
   ]
  },
  {
   "cell_type": "code",
   "execution_count": null,
   "id": "af7406fc",
   "metadata": {},
   "outputs": [],
   "source": []
  },
  {
   "cell_type": "markdown",
   "id": "c2cd01f0",
   "metadata": {},
   "source": [
    "<h1> Create Graph </h1>"
   ]
  },
  {
   "cell_type": "code",
   "execution_count": 5,
   "id": "bebc945d",
   "metadata": {},
   "outputs": [],
   "source": [
    "import networkx as nx\n",
    "\n",
    "G = nx.Graph()"
   ]
  },
  {
   "cell_type": "code",
   "execution_count": 6,
   "id": "8f60a718",
   "metadata": {},
   "outputs": [],
   "source": [
    "#Add all fighters to graph\n",
    "for fighter in datautilities.get_all_fighter_names():\n",
    "    G.add_node(fighter)"
   ]
  },
  {
   "cell_type": "code",
   "execution_count": 7,
   "id": "c69e1a18",
   "metadata": {},
   "outputs": [
    {
     "ename": "KeyError",
     "evalue": "'winner'",
     "output_type": "error",
     "traceback": [
      "\u001b[31m---------------------------------------------------------------------------\u001b[39m",
      "\u001b[31mKeyError\u001b[39m                                  Traceback (most recent call last)",
      "\u001b[36mCell\u001b[39m\u001b[36m \u001b[39m\u001b[32mIn[7]\u001b[39m\u001b[32m, line 3\u001b[39m\n\u001b[32m      1\u001b[39m \u001b[38;5;66;03m# Add all fights to graph\u001b[39;00m\n\u001b[32m      2\u001b[39m \u001b[38;5;28;01mfor\u001b[39;00m fight_id, fight_data \u001b[38;5;129;01min\u001b[39;00m datautilities.load_fights().items():\n\u001b[32m----> \u001b[39m\u001b[32m3\u001b[39m     winner = \u001b[43mfight_data\u001b[49m\u001b[43m[\u001b[49m\u001b[33;43m\"\u001b[39;49m\u001b[33;43mwinner\u001b[39;49m\u001b[33;43m\"\u001b[39;49m\u001b[43m]\u001b[49m\n\u001b[32m      4\u001b[39m     loser = fight_data[\u001b[33m\"\u001b[39m\u001b[33mloser\u001b[39m\u001b[33m\"\u001b[39m]\n\u001b[32m      5\u001b[39m     date = fight_data[\u001b[33m\"\u001b[39m\u001b[33mdate\u001b[39m\u001b[33m\"\u001b[39m]\n",
      "\u001b[31mKeyError\u001b[39m: 'winner'"
     ]
    }
   ],
   "source": [
    "# Add all fights to graph\n",
    "for fight_id, fight_data in datautilities.load_fights().items():\n",
    "    winner = fight_data[\"winner\"]\n",
    "    loser = fight_data[\"loser\"]\n",
    "    date = fight_data[\"date\"]\n",
    "    result = fight_data[\"result\"]\n",
    "\n",
    "    print(\"Adding edge: winner:\" + winner + \" loser: \" + loser + \" result: \" +  datautilities.get_result_from_dict(result) + \" date: \" + date )\n",
    "\n",
    "    G.add_edge(winner, loser,winner = winner, loser = loser, date=date, result=result)\n"
   ]
  },
  {
   "cell_type": "code",
   "execution_count": null,
   "id": "ff99a0ac",
   "metadata": {},
   "outputs": [],
   "source": [
    "#Quickly print graph\n",
    "print(\"Fighters\")\n",
    "for node, data in G.nodes(data=True):\n",
    "    print(f\"Fighter: {node}, Data: {data}\")\n",
    "\n",
    "print(\" #---# \")\n",
    "\n",
    "print(\"Fights\")\n",
    "for u, v, data in G.edges(data=True):\n",
    "    print(f\"Fight: {u} -> {v}, Info: {data}\")\n"
   ]
  },
  {
   "cell_type": "markdown",
   "id": "17bc1048",
   "metadata": {},
   "source": [
    "<h3> Built In Traversals </h3>"
   ]
  },
  {
   "cell_type": "code",
   "execution_count": null,
   "id": "3199121c",
   "metadata": {},
   "outputs": [],
   "source": [
    "# Find paths from Volk to Oliveria\n",
    "VolkGaethjePaths =list(nx.all_simple_paths(G,source=\"Alexander Volkanovski\", target=\"Justin Gaethje\"))\n",
    "\n",
    "print(\"Paths from Alexander Volkanovski to Dustin Gaethje:\")\n",
    "for path in VolkGaethjePaths:\n",
    "    print(\" -> \".join(path))"
   ]
  },
  {
   "cell_type": "code",
   "execution_count": null,
   "id": "4858774c",
   "metadata": {},
   "outputs": [],
   "source": []
  },
  {
   "cell_type": "code",
   "execution_count": null,
   "id": "fb129d1d",
   "metadata": {},
   "outputs": [],
   "source": []
  },
  {
   "cell_type": "markdown",
   "id": "35b5460a",
   "metadata": {},
   "source": [
    "<h3> Custom Traversals </h3>"
   ]
  },
  {
   "cell_type": "code",
   "execution_count": null,
   "id": "27279cca",
   "metadata": {},
   "outputs": [],
   "source": [
    "# Time Bound Traversal, all fights have to be before certain date\n",
    "def DFS_BeforeDate(Graph, source, target, cutoff_date_str):\n",
    "    cutoff_date = datetime.strptime(cutoff_date_str, \"%Y-%m-%d\").date()\n",
    "    all_paths = []\n",
    "\n",
    "    def dfs(current, path):\n",
    "        if current == target:\n",
    "            all_paths.append(list(path))\n",
    "            return\n",
    "        \n",
    "        for neighbor in Graph.neighbors(current):\n",
    "            visited_nodes = {path[0]} | {step[0] for step in path[1:]}\n",
    "            if neighbor in visited_nodes:\n",
    "                continue  # avoid cycles\n",
    "\n",
    "            edge_data = Graph.get_edge_data(current, neighbor)\n",
    "            edge_date = datetime.strptime(edge_data.get(\"date\"), \"%Y-%m-%d\").date()\n",
    "            edge_result = datautilities.get_result_from_dict(edge_data.get(\"result\"))\n",
    "\n",
    "            WL_fromperspective = \"W\"\n",
    "            fight_winner = edge_data.get(\"winner\")\n",
    "  \n",
    "            if(neighbor == fight_winner):\n",
    "                WL_fromperspective = \"L\"\n",
    "            \n",
    "            if(edge_result == \"Draw\"):\n",
    "                WL_fromperspective = \"D\"\n",
    "\n",
    "            # Check if the edge date is before or equal to the cutoff date            \n",
    "            if edge_date <= cutoff_date:\n",
    "                path.append((neighbor,edge_date.strftime(\"%Y-%m-%d\"),edge_result, WL_fromperspective))\n",
    "                print(f\"Current Node: : {current}  '{WL_fromperspective}', Opponent: {neighbor}, Method: {edge_result}, Date: {edge_date}\")\n",
    "                dfs(neighbor, path)\n",
    "                path.pop()\n",
    "\n",
    "    dfs(source, [source])\n",
    "    return all_paths"
   ]
  },
  {
   "cell_type": "code",
   "execution_count": null,
   "id": "1da80084",
   "metadata": {},
   "outputs": [],
   "source": [
    "def PrintCustomPaths(paths):\n",
    "    for path in paths:\n",
    "        output = []\n",
    "        for i in range(len(path) - 1):\n",
    "            from_node = path[i][0] if i > 0 else path[0]  # string for the first fighter\n",
    "            to_node, date, result, WL= path[i + 1]           # tuple\n",
    "            segment = f\"{from_node} --{result} {WL} --> {to_node}. {date}\"\n",
    "            output.append(segment)\n",
    "        print(\" | \".join(output))"
   ]
  },
  {
   "cell_type": "code",
   "execution_count": null,
   "id": "a046a592",
   "metadata": {},
   "outputs": [],
   "source": [
    "VolkGaethjePathsBefore2026 = DFS_BeforeDate(G, \"Alexander Volkanovski\", \"Justin Gaethje\", \"2026-09-01\")\n",
    "print(\"Paths from Alexander Volkanovski to Justin Gaethje before 2026-01-01:\")\n",
    "PrintCustomPaths(VolkGaethjePathsBefore2026)"
   ]
  },
  {
   "cell_type": "code",
   "execution_count": null,
   "id": "301aee1d",
   "metadata": {},
   "outputs": [],
   "source": []
  },
  {
   "cell_type": "markdown",
   "id": "9255a2f0",
   "metadata": {},
   "source": [
    "<h2> Build Trees from Paths </h2>\n",
    "\n",
    "For example, instead of \n",
    "\n",
    "    a->b->c\n",
    "    a->b->d\n",
    "\n",
    "We will want\n",
    "\n",
    "    a->b\n",
    "       b->c\n",
    "       b->d\n",
    "\n",
    "This will help visualize and better understand relationships"
   ]
  },
  {
   "cell_type": "code",
   "execution_count": null,
   "id": "6e63793b",
   "metadata": {},
   "outputs": [],
   "source": [
    "def AddFightToTree(Tree, father, opponent, fightdate, fightresult, fightWL):\n",
    "    if father not in Tree:\n",
    "        Tree[father] = []\n",
    "    #print(f\"Adding fight: father: {father}, opponent: {opponent}, date: {fightdate}, result: {fightresult}, WL: {fightWL}\")\n",
    "    if (opponent, fightdate, fightresult, fightWL) in Tree[father]:\n",
    "        return\n",
    "    Tree[father].append((opponent,fightdate, fightresult, fightWL))\n",
    "\n",
    "\n",
    "def BuildTreesFromPaths(paths):\n",
    "    Trees = {}\n",
    "\n",
    "    for path in paths:\n",
    "\n",
    "        print(\"path:\", path)\n",
    "\n",
    "        for index in range(len(path)):\n",
    "            if index == 0:\n",
    "                continue\n",
    "\n",
    "            fight = path[index]\n",
    "\n",
    "            father = path[index - 1][0]\n",
    "            if index == 1:\n",
    "                father = path[index-1]\n",
    "            currFighter = fight[0]\n",
    "            fightdate = fight[1]\n",
    "            fightresult = fight[2]\n",
    "            fightWL = fight[3]\n",
    "            \n",
    "            AddFightToTree(Trees, father, currFighter, fightdate, fightresult, fightWL)\n",
    "\n",
    "            \n",
    "    return Trees\n",
    "\n"
   ]
  },
  {
   "cell_type": "code",
   "execution_count": null,
   "id": "0fa41a71",
   "metadata": {},
   "outputs": [],
   "source": [
    "VolkGaethje2026Trees = BuildTreesFromPaths(VolkGaethjePathsBefore2026)"
   ]
  },
  {
   "cell_type": "code",
   "execution_count": null,
   "id": "50e40793",
   "metadata": {},
   "outputs": [],
   "source": [
    "print(VolkGaethje2026Trees)"
   ]
  },
  {
   "cell_type": "markdown",
   "id": "02a28cc6",
   "metadata": {},
   "source": [
    "<h2> Visualize Trees </h2>"
   ]
  },
  {
   "cell_type": "code",
   "execution_count": null,
   "id": "a72f2a37",
   "metadata": {},
   "outputs": [],
   "source": [
    "from graphviz import Digraph\n",
    "\n",
    "dot = Digraph(comment='Fighter Paths')\n",
    "dot.attr(rankdir='TB')\n",
    "\n"
   ]
  },
  {
   "cell_type": "code",
   "execution_count": null,
   "id": "520a909b",
   "metadata": {},
   "outputs": [],
   "source": [
    "from IPython.display import display, SVG\n",
    "\n",
    "def CreateVisualTreeFromTrees(Trees, rootFighter, targetFighter):\n",
    "    \n",
    "    dot = Digraph(comment='MMA Tree' + rootFighter + \" to \" + targetFighter)\n",
    "    dot.attr(rankdir='TB')\n",
    "\n",
    "    #Add node for target\n",
    "    dot.node(targetFighter, label=targetFighter, shape=\"doublecircle\", penwidth=\"2\")\n",
    "\n",
    "    # Add node for each fighter in the tree\n",
    "    for fighter in Trees:\n",
    "        shape = \"circle\"\n",
    "        color = \"black\"\n",
    "        penwidth = \"1\"\n",
    "        width = height = \"0.5\"\n",
    "        \n",
    "        if(fighter == rootFighter):\n",
    "            shape = \"doublecircle\"\n",
    "            color = \"black\"\n",
    "            penwidth = \"3\"\n",
    "            width = height = \"1\"\n",
    "        \n",
    "        dot.node(fighter, label=fighter, shape=shape,color=color,penwidth=penwidth,width=width,height=height)\n",
    "\n",
    "        # Add edges for each fight\n",
    "        for fight in Trees[fighter]:\n",
    "            opponent, date, result, WL = fight\n",
    "\n",
    "            if WL == \"W\":\n",
    "                edge_color = \"green\"\n",
    "            elif WL == \"L\":\n",
    "                edge_color = \"red\"\n",
    "            elif WL == \"D\":\n",
    "                edge_color = \"yellow\"\n",
    "\n",
    "            edge_label = f\"{result}\\n{date}\"\n",
    "            dot.edge(fighter, opponent, label=edge_label,color=edge_color,fontsize='10',labeldistance='5')\n",
    "\n",
    "    # To render in Jupyter without saving to file, display the SVG directly\n",
    "    SVG(dot.pipe(format='svg'))\n",
    "  \n",
    "    #TODO add boolean option to save to file\n",
    "\n",
    "    return dot\n"
   ]
  },
  {
   "cell_type": "code",
   "execution_count": null,
   "id": "7e41de53",
   "metadata": {},
   "outputs": [],
   "source": [
    "CreateVisualTreeFromTrees(VolkGaethje2026Trees, \"Alexander Volkanovski\", \"Justin Gaethje\")"
   ]
  },
  {
   "cell_type": "code",
   "execution_count": null,
   "id": "3a4f443a",
   "metadata": {},
   "outputs": [],
   "source": [
    "def RunWholeAnalysis(rootFighter, targetFighter, cutoff_date_str):\n",
    "    paths = DFS_BeforeDate(G, rootFighter, targetFighter, cutoff_date_str)\n",
    "    print(f\"Found {len(paths)} paths from {rootFighter} to {targetFighter} before {cutoff_date_str}:\")\n",
    "    PrintCustomPaths(paths)\n",
    "    trees = BuildTreesFromPaths(paths)\n",
    "    print(\"Trees\")\n",
    "    print(trees)\n",
    "    dot = CreateVisualTreeFromTrees(trees, rootFighter, targetFighter)\n",
    "    return dot"
   ]
  },
  {
   "cell_type": "code",
   "execution_count": null,
   "id": "73ab0798",
   "metadata": {},
   "outputs": [],
   "source": [
    "RunWholeAnalysis(\"Ilia Topuria\", \"Paddy Pimblett\", \"2026-01-01\")"
   ]
  },
  {
   "cell_type": "markdown",
   "id": "0ade64cf",
   "metadata": {},
   "source": [
    "<H2> Start scoring fights and paths </h2>"
   ]
  },
  {
   "cell_type": "markdown",
   "id": "694301d5",
   "metadata": {},
   "source": []
  }
 ],
 "metadata": {
  "kernelspec": {
   "display_name": "Python 3",
   "language": "python",
   "name": "python3"
  },
  "language_info": {
   "codemirror_mode": {
    "name": "ipython",
    "version": 3
   },
   "file_extension": ".py",
   "mimetype": "text/x-python",
   "name": "python",
   "nbconvert_exporter": "python",
   "pygments_lexer": "ipython3",
   "version": "3.12.1"
  }
 },
 "nbformat": 4,
 "nbformat_minor": 5
}
