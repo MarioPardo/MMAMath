{
 "cells": [
  {
   "cell_type": "markdown",
   "id": "735df2d1",
   "metadata": {},
   "source": [
    "This file will be used for testing,and playing around with the graph side of thigs"
   ]
  },
  {
   "cell_type": "markdown",
   "id": "ddeea68d",
   "metadata": {},
   "source": [
    "<h2> Imports </h2>"
   ]
  },
  {
   "cell_type": "code",
   "execution_count": null,
   "id": "fa4f23aa",
   "metadata": {},
   "outputs": [],
   "source": [
    "import datautilities\n",
    "from datetime import datetime"
   ]
  },
  {
   "cell_type": "code",
   "execution_count": 29,
   "id": "148c485a",
   "metadata": {},
   "outputs": [
    {
     "data": {
      "text/plain": [
       "<module 'datautilities' from '/workspaces/MMAMath/datautilities.py'>"
      ]
     },
     "execution_count": 29,
     "metadata": {},
     "output_type": "execute_result"
    }
   ],
   "source": [
    "import importlib\n",
    "\n",
    "importlib.reload(datautilities)"
   ]
  },
  {
   "cell_type": "markdown",
   "id": "4a2000dd",
   "metadata": {},
   "source": [
    "First let's add a couple of fights and fighters so we can play around with our graph\n"
   ]
  },
  {
   "cell_type": "code",
   "execution_count": 30,
   "id": "d78ab82d",
   "metadata": {},
   "outputs": [
    {
     "name": "stdout",
     "output_type": "stream",
     "text": [
      "Added fighter 'Charles Oliveira' with ID 1930599\n",
      "Added fighter 'Justin Gaethje' with ID 6666004\n",
      " Fight added: Charles Oliveira vs Justin Gaethje on 2025-05-07 (SUB)\n",
      "Added fighter 'Dustin Poirier' with ID 5070431\n",
      "Added fighter 'Max Holloway' with ID 6351940\n",
      " Fight added: Dustin Poirier vs Max Holloway on 2019-04-13 (UDEC)\n",
      "Fighter 'Charles Oliveira' already exists with ID 1930599\n",
      "Added fighter 'Michael Chandler' with ID 7347461\n",
      " Fight added: Charles Oliveira vs Michael Chandler on 2021-05-15 (KO/TKO)\n",
      "Added fighter 'Alexander Volkanovski' with ID 8880720\n",
      "Fighter 'Max Holloway' already exists with ID 6351940\n",
      " Fight added: Alexander Volkanovski vs Max Holloway on 2020-07-11 (UDEC)\n",
      "Fighter 'Justin Gaethje' already exists with ID 6666004\n",
      "Fighter 'Dustin Poirier' already exists with ID 5070431\n",
      " Fight added: Justin Gaethje vs Dustin Poirier on 2022-07-29 (KO/TKO)\n",
      "Fighter 'Charles Oliveira' already exists with ID 1930599\n",
      "Fighter 'Dustin Poirier' already exists with ID 5070431\n",
      " Fight added: Charles Oliveira vs Dustin Poirier on 2021-12-11 (SUB)\n",
      "Fighter 'Justin Gaethje' already exists with ID 6666004\n",
      "Fighter 'Michael Chandler' already exists with ID 7347461\n",
      " Fight added: Justin Gaethje vs Michael Chandler on 2021-05-15 (UDEC)\n",
      "Fighter 'Dustin Poirier' already exists with ID 5070431\n",
      "Fighter 'Justin Gaethje' already exists with ID 6666004\n",
      " Fight added: Dustin Poirier vs Justin Gaethje on 2018-04-14 (KO/TKO)\n",
      "Fighter 'Alexander Volkanovski' already exists with ID 8880720\n",
      "Fighter 'Max Holloway' already exists with ID 6351940\n",
      " Fight added: Alexander Volkanovski vs Max Holloway on 2022-07-02 (UDEC)\n",
      "Fighter 'Max Holloway' already exists with ID 6351940\n",
      "Added fighter 'Dustin Gaethje' with ID 9174018\n",
      " Fight added: Max Holloway vs Dustin Gaethje on 2024-04-13 (KO/TKO)\n",
      "Added fighter 'Paddy Pimblett' with ID 4965326\n",
      "Fighter 'Michael Chandler' already exists with ID 7347461\n",
      " Fight added: Paddy Pimblett vs Michael Chandler on 2025-04-12 (SUB)\n"
     ]
    }
   ],
   "source": [
    "datautilities.AddFight(\"Charles Oliveira\", \"Justin Gaethje\", \"2025-05-7\",\"SUB\")\n",
    "datautilities.AddFight(\"Dustin Poirier\",\"Max Holloway\", \"2019-04-13\",\"UDEC\")\n",
    "datautilities.AddFight(\"Charles Oliveira\", \"Michael Chandler\", \"2021-05-15\",\"KO/TKO\")\n",
    "datautilities.AddFight(\"Alexander Volkanovski\",\"Max Holloway\", \"2020-07-11\",\"UDEC\")\n",
    "datautilities.AddFight(\"Justin Gaethje\",\"Dustin Poirier\", \"2022-07-29\",\"KO/TKO\")\n",
    "datautilities.AddFight(\"Charles Oliveira\", \"Dustin Poirier\", \"2021-12-11\",\"SUB\")\n",
    "datautilities.AddFight(\"Justin Gaethje\", \"Michael Chandler\", \"2021-05-15\",\"UDEC\")\n",
    "datautilities.AddFight(\"Dustin Poirier\",\"Justin Gaethje\" , \"2018-04-14\",\"KO/TKO\")\n",
    "datautilities.AddFight(\"Alexander Volkanovski\",\"Max Holloway\", \"2022-07-02\",\"UDEC\")\n",
    "datautilities.AddFight(\"Max Holloway\", \"Dustin Gaethje\", \"2024-04-13\",\"KO/TKO\")\n",
    "datautilities.AddFight(\"Paddy Pimblett\", \"Michael Chandler\", \"2025-04-12\",\"SUB\")"
   ]
  },
  {
   "cell_type": "markdown",
   "id": "c2cd01f0",
   "metadata": {},
   "source": [
    "<h1> Create Graph </h1>"
   ]
  },
  {
   "cell_type": "code",
   "execution_count": 31,
   "id": "bebc945d",
   "metadata": {},
   "outputs": [],
   "source": [
    "import networkx as nx\n",
    "\n",
    "G = nx.Graph()"
   ]
  },
  {
   "cell_type": "code",
   "execution_count": 32,
   "id": "8f60a718",
   "metadata": {},
   "outputs": [],
   "source": [
    "#Add all fighters to graph\n",
    "for fighter in datautilities.get_all_fighter_names():\n",
    "    G.add_node(fighter)"
   ]
  },
  {
   "cell_type": "code",
   "execution_count": 33,
   "id": "c69e1a18",
   "metadata": {},
   "outputs": [],
   "source": [
    "# Add all fights to graph\n",
    "for fight_id, fight_data in datautilities.load_fights().items():\n",
    "    fighter1 = fight_data[\"fighter1\"]\n",
    "    fighter2 = fight_data[\"fighter2\"]\n",
    "    date = fight_data[\"date\"]\n",
    "    result = fight_data[\"result\"]\n",
    "\n",
    "    G.add_edge(fighter1, fighter2, date=date, result=result)\n"
   ]
  },
  {
   "cell_type": "code",
   "execution_count": 34,
   "id": "ff99a0ac",
   "metadata": {},
   "outputs": [
    {
     "name": "stdout",
     "output_type": "stream",
     "text": [
      "Fighters\n",
      "Fighter: Charles Oliveira, Data: {}\n",
      "Fighter: Justin Gaethje, Data: {}\n",
      "Fighter: Dustin Poirier, Data: {}\n",
      "Fighter: Max Holloway, Data: {}\n",
      "Fighter: Michael Chandler, Data: {}\n",
      "Fighter: Alexander Volkanovski, Data: {}\n",
      "Fighter: Dustin Gaethje, Data: {}\n",
      "Fighter: Paddy Pimblett, Data: {}\n",
      " #---# \n",
      "Fights\n",
      "Fight: Charles Oliveira -> Justin Gaethje, Info: {'date': '2025-05-7', 'result': {'KO/TKO': 0, 'SUB': 1, 'UDEC': 0, 'SDEC': 0, 'MDEC': 0, 'Draw': 0}}\n",
      "Fight: Charles Oliveira -> Michael Chandler, Info: {'date': '2021-05-15', 'result': {'KO/TKO': 1, 'SUB': 0, 'UDEC': 0, 'SDEC': 0, 'MDEC': 0, 'Draw': 0}}\n",
      "Fight: Charles Oliveira -> Dustin Poirier, Info: {'date': '2021-12-11', 'result': {'KO/TKO': 0, 'SUB': 1, 'UDEC': 0, 'SDEC': 0, 'MDEC': 0, 'Draw': 0}}\n",
      "Fight: Justin Gaethje -> Dustin Poirier, Info: {'date': '2018-04-14', 'result': {'KO/TKO': 1, 'SUB': 0, 'UDEC': 0, 'SDEC': 0, 'MDEC': 0, 'Draw': 0}}\n",
      "Fight: Justin Gaethje -> Michael Chandler, Info: {'date': '2021-05-15', 'result': {'KO/TKO': 0, 'SUB': 0, 'UDEC': 1, 'SDEC': 0, 'MDEC': 0, 'Draw': 0}}\n",
      "Fight: Dustin Poirier -> Max Holloway, Info: {'date': '2019-04-13', 'result': {'KO/TKO': 0, 'SUB': 0, 'UDEC': 1, 'SDEC': 0, 'MDEC': 0, 'Draw': 0}}\n",
      "Fight: Max Holloway -> Alexander Volkanovski, Info: {'date': '2022-07-02', 'result': {'KO/TKO': 0, 'SUB': 0, 'UDEC': 1, 'SDEC': 0, 'MDEC': 0, 'Draw': 0}}\n",
      "Fight: Max Holloway -> Dustin Gaethje, Info: {'date': '2024-04-13', 'result': {'KO/TKO': 1, 'SUB': 0, 'UDEC': 0, 'SDEC': 0, 'MDEC': 0, 'Draw': 0}}\n",
      "Fight: Michael Chandler -> Paddy Pimblett, Info: {'date': '2025-04-12', 'result': {'KO/TKO': 0, 'SUB': 1, 'UDEC': 0, 'SDEC': 0, 'MDEC': 0, 'Draw': 0}}\n"
     ]
    }
   ],
   "source": [
    "#Quickly print graph\n",
    "print(\"Fighters\")\n",
    "for node, data in G.nodes(data=True):\n",
    "    print(f\"Fighter: {node}, Data: {data}\")\n",
    "\n",
    "print(\" #---# \")\n",
    "\n",
    "print(\"Fights\")\n",
    "for u, v, data in G.edges(data=True):\n",
    "    print(f\"Fight: {u} -> {v}, Info: {data}\")\n"
   ]
  },
  {
   "cell_type": "markdown",
   "id": "17bc1048",
   "metadata": {},
   "source": [
    "<h3> Built In Traversals </h3>"
   ]
  },
  {
   "cell_type": "code",
   "execution_count": null,
   "id": "3199121c",
   "metadata": {},
   "outputs": [
    {
     "name": "stdout",
     "output_type": "stream",
     "text": [
      "Paths from Alexander Volkanovski to Dustin Gaethje:\n",
      "Alexander Volkanovski -> Max Holloway -> Dustin Poirier -> Justin Gaethje\n",
      "Alexander Volkanovski -> Max Holloway -> Dustin Poirier -> Charles Oliveira -> Justin Gaethje\n",
      "Alexander Volkanovski -> Max Holloway -> Dustin Poirier -> Charles Oliveira -> Michael Chandler -> Justin Gaethje\n",
      "['Alexander Volkanovski', 'Max Holloway', 'Dustin Poirier', 'Justin Gaethje']\n",
      "['Alexander Volkanovski', 'Max Holloway', 'Dustin Poirier', 'Charles Oliveira', 'Justin Gaethje']\n",
      "['Alexander Volkanovski', 'Max Holloway', 'Dustin Poirier', 'Charles Oliveira', 'Michael Chandler', 'Justin Gaethje']\n"
     ]
    }
   ],
   "source": [
    "# Find paths from Volk to Oliveria\n",
    "VolkGaethjePaths =list(nx.all_simple_paths(G,source=\"Alexander Volkanovski\", target=\"Justin Gaethje\"))\n",
    "\n",
    "print(\"Paths from Alexander Volkanovski to Dustin Gaethje:\")\n",
    "for path in VolkGaethjePaths:\n",
    "    print(\" -> \".join(path))"
   ]
  },
  {
   "cell_type": "code",
   "execution_count": null,
   "id": "4858774c",
   "metadata": {},
   "outputs": [],
   "source": []
  },
  {
   "cell_type": "markdown",
   "id": "35b5460a",
   "metadata": {},
   "source": [
    "<h3> Custom Traversals </h3>"
   ]
  },
  {
   "cell_type": "code",
   "execution_count": null,
   "id": "6c543de6",
   "metadata": {},
   "outputs": [],
   "source": [
    "# Traversal print results"
   ]
  },
  {
   "cell_type": "code",
   "execution_count": null,
   "id": "27279cca",
   "metadata": {},
   "outputs": [],
   "source": [
    "# Time Bound Traversal, all fights have to be before certain date\n",
    "def DFS_BeforeDate(G, source, target, cutoff_date_str):\n",
    "    cutoff_date = datetime.strptime(cutoff_date_str, \"%Y-%m-%d\").date()\n",
    "    all_paths = []\n",
    "\n",
    "    def dfs(current, path):\n",
    "        if current == target:\n",
    "            all_paths.append(list(path))\n",
    "            return\n",
    "        \n",
    "        for neighbor in G.neighbors(current):\n",
    "            if neighbor in path:\n",
    "                continue  # avoid cycles\n",
    "\n",
    "            edge_data = G.get_edge_data(current, neighbor)\n",
    "            edge_date = datetime.strptime(edge_data.get(\"date\"), \"%Y-%m-%d\").date()\n",
    "\n",
    "            if edge_date <= cutoff_date:\n",
    "                path.append(neighbor)\n",
    "                dfs(neighbor, path)\n",
    "                path.pop()\n",
    "\n",
    "    dfs(source, [source])\n",
    "    return all_paths"
   ]
  },
  {
   "cell_type": "code",
   "execution_count": null,
   "id": "a046a592",
   "metadata": {},
   "outputs": [],
   "source": []
  },
  {
   "cell_type": "markdown",
   "id": "0ade64cf",
   "metadata": {},
   "source": [
    "<H2> Start scoring fights and paths </h2>"
   ]
  }
 ],
 "metadata": {
  "kernelspec": {
   "display_name": "Python 3",
   "language": "python",
   "name": "python3"
  },
  "language_info": {
   "codemirror_mode": {
    "name": "ipython",
    "version": 3
   },
   "file_extension": ".py",
   "mimetype": "text/x-python",
   "name": "python",
   "nbconvert_exporter": "python",
   "pygments_lexer": "ipython3",
   "version": "3.12.1"
  }
 },
 "nbformat": 4,
 "nbformat_minor": 5
}
