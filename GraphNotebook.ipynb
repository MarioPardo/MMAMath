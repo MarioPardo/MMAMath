{
 "cells": [
  {
   "cell_type": "markdown",
   "id": "735df2d1",
   "metadata": {},
   "source": [
    "This file will be used for testing,and playing around with the graph side of thigs"
   ]
  },
  {
   "cell_type": "markdown",
   "id": "ddeea68d",
   "metadata": {},
   "source": [
    "<h2> Imports </h2>"
   ]
  },
  {
   "cell_type": "code",
   "execution_count": 1,
   "id": "fa4f23aa",
   "metadata": {},
   "outputs": [],
   "source": [
    "import datautilities\n",
    "from datetime import datetime"
   ]
  },
  {
   "cell_type": "code",
   "execution_count": 2,
   "id": "148c485a",
   "metadata": {},
   "outputs": [
    {
     "data": {
      "text/plain": [
       "<module 'datautilities' from '/workspaces/MMAMath/datautilities.py'>"
      ]
     },
     "execution_count": 2,
     "metadata": {},
     "output_type": "execute_result"
    }
   ],
   "source": [
    "import importlib\n",
    "\n",
    "importlib.reload(datautilities)"
   ]
  },
  {
   "cell_type": "markdown",
   "id": "4a2000dd",
   "metadata": {},
   "source": [
    "First let's add a couple of fights and fighters so we can play around with our graph\n"
   ]
  },
  {
   "cell_type": "code",
   "execution_count": 3,
   "id": "d78ab82d",
   "metadata": {},
   "outputs": [
    {
     "name": "stdout",
     "output_type": "stream",
     "text": [
      "Fight already exists: Charles Oliveira vs Justin Gaethje on 2025-05-7\n",
      "Fight already exists: Dustin Poirier vs Max Holloway on 2019-04-13\n",
      "Fight already exists: Charles Oliveira vs Michael Chandler on 2021-05-15\n",
      "Fight already exists: Alexander Volkanovski vs Max Holloway on 2020-07-11\n",
      "Fight already exists: Justin Gaethje vs Dustin Poirier on 2022-07-29\n",
      "Fight already exists: Charles Oliveira vs Dustin Poirier on 2021-12-11\n",
      "Fight already exists: Justin Gaethje vs Michael Chandler on 2021-05-15\n",
      "Fight already exists: Dustin Poirier vs Justin Gaethje on 2018-04-14\n",
      "Fight already exists: Alexander Volkanovski vs Max Holloway on 2022-07-02\n",
      "Fight already exists: Max Holloway vs Dustin Gaethje on 2024-04-13\n",
      "Fight already exists: Paddy Pimblett vs Michael Chandler on 2025-04-12\n",
      "Fight already exists: Ilia Topuria vs Alexander Volkanovski on 2024-02-17\n",
      "Fight already exists: Ilia Topuria vs Max Holloway on 2024-10-26\n"
     ]
    }
   ],
   "source": [
    "datautilities.AddFight(\"Charles Oliveira\", \"Justin Gaethje\", \"2025-05-7\",\"SUB\")\n",
    "datautilities.AddFight(\"Dustin Poirier\",\"Max Holloway\", \"2019-04-13\",\"UDEC\")\n",
    "datautilities.AddFight(\"Charles Oliveira\", \"Michael Chandler\", \"2021-05-15\",\"KO/TKO\")\n",
    "datautilities.AddFight(\"Alexander Volkanovski\",\"Max Holloway\", \"2020-07-11\",\"UDEC\")\n",
    "datautilities.AddFight(\"Justin Gaethje\",\"Dustin Poirier\", \"2022-07-29\",\"KO/TKO\")\n",
    "datautilities.AddFight(\"Charles Oliveira\", \"Dustin Poirier\", \"2021-12-11\",\"SUB\")\n",
    "datautilities.AddFight(\"Justin Gaethje\", \"Michael Chandler\", \"2021-05-15\",\"UDEC\")\n",
    "datautilities.AddFight(\"Dustin Poirier\",\"Justin Gaethje\" , \"2018-04-14\",\"KO/TKO\")\n",
    "datautilities.AddFight(\"Alexander Volkanovski\",\"Max Holloway\", \"2022-07-02\",\"UDEC\")\n",
    "datautilities.AddFight(\"Max Holloway\", \"Dustin Gaethje\", \"2024-04-13\",\"KO/TKO\")\n",
    "datautilities.AddFight(\"Paddy Pimblett\", \"Michael Chandler\", \"2025-04-12\",\"SUB\")\n",
    "datautilities.AddFight(\"Ilia Topuria\", \"Alexander Volkanovski\", \"2024-02-17\", \"KO/TKO\")\n",
    "datautilities.AddFight(\"Ilia Topuria\", \"Max Holloway\", \"2024-10-26\", \"KO/TKO\")"
   ]
  },
  {
   "cell_type": "markdown",
   "id": "c2cd01f0",
   "metadata": {},
   "source": [
    "<h1> Create Graph </h1>"
   ]
  },
  {
   "cell_type": "code",
   "execution_count": 4,
   "id": "bebc945d",
   "metadata": {},
   "outputs": [],
   "source": [
    "import networkx as nx\n",
    "\n",
    "G = nx.Graph()"
   ]
  },
  {
   "cell_type": "code",
   "execution_count": 5,
   "id": "8f60a718",
   "metadata": {},
   "outputs": [],
   "source": [
    "#Add all fighters to graph\n",
    "for fighter in datautilities.get_all_fighter_names():\n",
    "    G.add_node(fighter)"
   ]
  },
  {
   "cell_type": "code",
   "execution_count": 6,
   "id": "c69e1a18",
   "metadata": {},
   "outputs": [
    {
     "name": "stdout",
     "output_type": "stream",
     "text": [
      "Adding edge: winner:Charles Oliveira loser: Justin Gaethje result: SUB date: 2025-05-7\n",
      "Adding edge: winner:Dustin Poirier loser: Max Holloway result: UDEC date: 2019-04-13\n",
      "Adding edge: winner:Charles Oliveira loser: Michael Chandler result: KO/TKO date: 2021-05-15\n",
      "Adding edge: winner:Alexander Volkanovski loser: Max Holloway result: UDEC date: 2020-07-11\n",
      "Adding edge: winner:Justin Gaethje loser: Dustin Poirier result: KO/TKO date: 2022-07-29\n",
      "Adding edge: winner:Charles Oliveira loser: Dustin Poirier result: SUB date: 2021-12-11\n",
      "Adding edge: winner:Justin Gaethje loser: Michael Chandler result: UDEC date: 2021-05-15\n",
      "Adding edge: winner:Dustin Poirier loser: Justin Gaethje result: KO/TKO date: 2018-04-14\n",
      "Adding edge: winner:Alexander Volkanovski loser: Max Holloway result: UDEC date: 2022-07-02\n",
      "Adding edge: winner:Max Holloway loser: Dustin Gaethje result: KO/TKO date: 2024-04-13\n",
      "Adding edge: winner:Paddy Pimblett loser: Michael Chandler result: SUB date: 2025-04-12\n",
      "Adding edge: winner:Ilia Topuria loser: Alexander Volkanovski result: KO/TKO date: 2024-02-17\n",
      "Adding edge: winner:Ilia Topuria loser: Max Holloway result: KO/TKO date: 2024-10-26\n"
     ]
    }
   ],
   "source": [
    "# Add all fights to graph\n",
    "for fight_id, fight_data in datautilities.load_fights().items():\n",
    "    winner = fight_data[\"winner\"]\n",
    "    loser = fight_data[\"loser\"]\n",
    "    date = fight_data[\"date\"]\n",
    "    result = fight_data[\"result\"]\n",
    "\n",
    "    print(\"Adding edge: winner:\" + winner + \" loser: \" + loser + \" result: \" +  datautilities.get_result_from_dict(result) + \" date: \" + date )\n",
    "\n",
    "    G.add_edge(winner, loser,winner = winner, loser = loser, date=date, result=result)\n"
   ]
  },
  {
   "cell_type": "code",
   "execution_count": 7,
   "id": "ff99a0ac",
   "metadata": {},
   "outputs": [
    {
     "name": "stdout",
     "output_type": "stream",
     "text": [
      "Fighters\n",
      "Fighter: Charles Oliveira, Data: {}\n",
      "Fighter: Justin Gaethje, Data: {}\n",
      "Fighter: Dustin Poirier, Data: {}\n",
      "Fighter: Max Holloway, Data: {}\n",
      "Fighter: Michael Chandler, Data: {}\n",
      "Fighter: Alexander Volkanovski, Data: {}\n",
      "Fighter: Dustin Gaethje, Data: {}\n",
      "Fighter: Paddy Pimblett, Data: {}\n",
      "Fighter: Ilia Topuria, Data: {}\n",
      " #---# \n",
      "Fights\n",
      "Fight: Charles Oliveira -> Justin Gaethje, Info: {'winner': 'Charles Oliveira', 'loser': 'Justin Gaethje', 'date': '2025-05-7', 'result': {'KO/TKO': 0, 'SUB': 1, 'UDEC': 0, 'SDEC': 0, 'MDEC': 0, 'Draw': 0}}\n",
      "Fight: Charles Oliveira -> Michael Chandler, Info: {'winner': 'Charles Oliveira', 'loser': 'Michael Chandler', 'date': '2021-05-15', 'result': {'KO/TKO': 1, 'SUB': 0, 'UDEC': 0, 'SDEC': 0, 'MDEC': 0, 'Draw': 0}}\n",
      "Fight: Charles Oliveira -> Dustin Poirier, Info: {'winner': 'Charles Oliveira', 'loser': 'Dustin Poirier', 'date': '2021-12-11', 'result': {'KO/TKO': 0, 'SUB': 1, 'UDEC': 0, 'SDEC': 0, 'MDEC': 0, 'Draw': 0}}\n",
      "Fight: Justin Gaethje -> Dustin Poirier, Info: {'winner': 'Dustin Poirier', 'loser': 'Justin Gaethje', 'date': '2018-04-14', 'result': {'KO/TKO': 1, 'SUB': 0, 'UDEC': 0, 'SDEC': 0, 'MDEC': 0, 'Draw': 0}}\n",
      "Fight: Justin Gaethje -> Michael Chandler, Info: {'winner': 'Justin Gaethje', 'loser': 'Michael Chandler', 'date': '2021-05-15', 'result': {'KO/TKO': 0, 'SUB': 0, 'UDEC': 1, 'SDEC': 0, 'MDEC': 0, 'Draw': 0}}\n",
      "Fight: Dustin Poirier -> Max Holloway, Info: {'winner': 'Dustin Poirier', 'loser': 'Max Holloway', 'date': '2019-04-13', 'result': {'KO/TKO': 0, 'SUB': 0, 'UDEC': 1, 'SDEC': 0, 'MDEC': 0, 'Draw': 0}}\n",
      "Fight: Max Holloway -> Alexander Volkanovski, Info: {'winner': 'Alexander Volkanovski', 'loser': 'Max Holloway', 'date': '2022-07-02', 'result': {'KO/TKO': 0, 'SUB': 0, 'UDEC': 1, 'SDEC': 0, 'MDEC': 0, 'Draw': 0}}\n",
      "Fight: Max Holloway -> Dustin Gaethje, Info: {'winner': 'Max Holloway', 'loser': 'Dustin Gaethje', 'date': '2024-04-13', 'result': {'KO/TKO': 1, 'SUB': 0, 'UDEC': 0, 'SDEC': 0, 'MDEC': 0, 'Draw': 0}}\n",
      "Fight: Max Holloway -> Ilia Topuria, Info: {'winner': 'Ilia Topuria', 'loser': 'Max Holloway', 'date': '2024-10-26', 'result': {'KO/TKO': 1, 'SUB': 0, 'UDEC': 0, 'SDEC': 0, 'MDEC': 0, 'Draw': 0}}\n",
      "Fight: Michael Chandler -> Paddy Pimblett, Info: {'winner': 'Paddy Pimblett', 'loser': 'Michael Chandler', 'date': '2025-04-12', 'result': {'KO/TKO': 0, 'SUB': 1, 'UDEC': 0, 'SDEC': 0, 'MDEC': 0, 'Draw': 0}}\n",
      "Fight: Alexander Volkanovski -> Ilia Topuria, Info: {'winner': 'Ilia Topuria', 'loser': 'Alexander Volkanovski', 'date': '2024-02-17', 'result': {'KO/TKO': 1, 'SUB': 0, 'UDEC': 0, 'SDEC': 0, 'MDEC': 0, 'Draw': 0}}\n"
     ]
    }
   ],
   "source": [
    "#Quickly print graph\n",
    "print(\"Fighters\")\n",
    "for node, data in G.nodes(data=True):\n",
    "    print(f\"Fighter: {node}, Data: {data}\")\n",
    "\n",
    "print(\" #---# \")\n",
    "\n",
    "print(\"Fights\")\n",
    "for u, v, data in G.edges(data=True):\n",
    "    print(f\"Fight: {u} -> {v}, Info: {data}\")\n"
   ]
  },
  {
   "cell_type": "markdown",
   "id": "17bc1048",
   "metadata": {},
   "source": [
    "<h3> Built In Traversals </h3>"
   ]
  },
  {
   "cell_type": "code",
   "execution_count": 8,
   "id": "3199121c",
   "metadata": {},
   "outputs": [
    {
     "name": "stdout",
     "output_type": "stream",
     "text": [
      "Paths from Alexander Volkanovski to Dustin Gaethje:\n",
      "Alexander Volkanovski -> Max Holloway -> Dustin Poirier -> Justin Gaethje\n",
      "Alexander Volkanovski -> Max Holloway -> Dustin Poirier -> Charles Oliveira -> Justin Gaethje\n",
      "Alexander Volkanovski -> Max Holloway -> Dustin Poirier -> Charles Oliveira -> Michael Chandler -> Justin Gaethje\n",
      "Alexander Volkanovski -> Ilia Topuria -> Max Holloway -> Dustin Poirier -> Justin Gaethje\n",
      "Alexander Volkanovski -> Ilia Topuria -> Max Holloway -> Dustin Poirier -> Charles Oliveira -> Justin Gaethje\n",
      "Alexander Volkanovski -> Ilia Topuria -> Max Holloway -> Dustin Poirier -> Charles Oliveira -> Michael Chandler -> Justin Gaethje\n"
     ]
    }
   ],
   "source": [
    "# Find paths from Volk to Oliveria\n",
    "VolkGaethjePaths =list(nx.all_simple_paths(G,source=\"Alexander Volkanovski\", target=\"Justin Gaethje\"))\n",
    "\n",
    "print(\"Paths from Alexander Volkanovski to Dustin Gaethje:\")\n",
    "for path in VolkGaethjePaths:\n",
    "    print(\" -> \".join(path))"
   ]
  },
  {
   "cell_type": "code",
   "execution_count": null,
   "id": "4858774c",
   "metadata": {},
   "outputs": [],
   "source": []
  },
  {
   "cell_type": "markdown",
   "id": "35b5460a",
   "metadata": {},
   "source": [
    "<h3> Custom Traversals </h3>"
   ]
  },
  {
   "cell_type": "code",
   "execution_count": 9,
   "id": "27279cca",
   "metadata": {},
   "outputs": [],
   "source": [
    "# Time Bound Traversal, all fights have to be before certain date\n",
    "def DFS_BeforeDate(Graph, source, target, cutoff_date_str):\n",
    "    cutoff_date = datetime.strptime(cutoff_date_str, \"%Y-%m-%d\").date()\n",
    "    all_paths = []\n",
    "\n",
    "    def dfs(current, path):\n",
    "        if current == target:\n",
    "            all_paths.append(list(path))\n",
    "            return\n",
    "        \n",
    "        for neighbor in Graph.neighbors(current):\n",
    "            visited_nodes = {path[0]} | {step[0] for step in path[1:]}\n",
    "            if neighbor in visited_nodes:\n",
    "                continue  # avoid cycles\n",
    "\n",
    "            edge_data = Graph.get_edge_data(current, neighbor)\n",
    "            edge_date = datetime.strptime(edge_data.get(\"date\"), \"%Y-%m-%d\").date()\n",
    "            edge_result = datautilities.get_result_from_dict(edge_data.get(\"result\"))\n",
    "\n",
    "            WL_fromperspective = \"W\"\n",
    "            fight_winner = edge_data.get(\"winner\")\n",
    "  \n",
    "            if(neighbor == fight_winner):\n",
    "                WL_fromperspective = \"L\"\n",
    "            \n",
    "            if(edge_result == \"Draw\"):\n",
    "                WL_fromperspective = \"D\"\n",
    "\n",
    "            # Check if the edge date is before or equal to the cutoff date            \n",
    "            if edge_date <= cutoff_date:\n",
    "                path.append((neighbor,date,edge_result, WL_fromperspective))\n",
    "                #print(f\"Current Node: : {current}  '{WL_fromperspective}', Opponent: {neighbor}, Method: {edge_result}, Date: {edge_date}\")\n",
    "                dfs(neighbor, path)\n",
    "                path.pop()\n",
    "\n",
    "    dfs(source, [source])\n",
    "    return all_paths"
   ]
  },
  {
   "cell_type": "code",
   "execution_count": 10,
   "id": "1da80084",
   "metadata": {},
   "outputs": [],
   "source": [
    "def PrintCustomPaths(paths):\n",
    "    for path in paths:\n",
    "        output = []\n",
    "        for i in range(len(path) - 1):\n",
    "            from_node = path[i][0] if i > 0 else path[0]  # string for the first fighter\n",
    "            to_node, date, result, WL= path[i + 1]           # tuple\n",
    "            segment = f\"{from_node} --{result} {WL} --> {to_node}. {date}\"\n",
    "            output.append(segment)\n",
    "        print(\" | \".join(output))"
   ]
  },
  {
   "cell_type": "code",
   "execution_count": 11,
   "id": "a046a592",
   "metadata": {},
   "outputs": [
    {
     "name": "stdout",
     "output_type": "stream",
     "text": [
      "Paths from Alexander Volkanovski to Justin Gaethje before 2026-01-01:\n",
      "Alexander Volkanovski --UDEC W --> Max Holloway. 2024-10-26 | Max Holloway --UDEC L --> Dustin Poirier. 2024-10-26 | Dustin Poirier --KO/TKO W --> Justin Gaethje. 2024-10-26\n",
      "Alexander Volkanovski --UDEC W --> Max Holloway. 2024-10-26 | Max Holloway --UDEC L --> Dustin Poirier. 2024-10-26 | Dustin Poirier --SUB L --> Charles Oliveira. 2024-10-26 | Charles Oliveira --SUB W --> Justin Gaethje. 2024-10-26\n",
      "Alexander Volkanovski --UDEC W --> Max Holloway. 2024-10-26 | Max Holloway --UDEC L --> Dustin Poirier. 2024-10-26 | Dustin Poirier --SUB L --> Charles Oliveira. 2024-10-26 | Charles Oliveira --KO/TKO W --> Michael Chandler. 2024-10-26 | Michael Chandler --UDEC L --> Justin Gaethje. 2024-10-26\n",
      "Alexander Volkanovski --KO/TKO L --> Ilia Topuria. 2024-10-26 | Ilia Topuria --KO/TKO W --> Max Holloway. 2024-10-26 | Max Holloway --UDEC L --> Dustin Poirier. 2024-10-26 | Dustin Poirier --KO/TKO W --> Justin Gaethje. 2024-10-26\n",
      "Alexander Volkanovski --KO/TKO L --> Ilia Topuria. 2024-10-26 | Ilia Topuria --KO/TKO W --> Max Holloway. 2024-10-26 | Max Holloway --UDEC L --> Dustin Poirier. 2024-10-26 | Dustin Poirier --SUB L --> Charles Oliveira. 2024-10-26 | Charles Oliveira --SUB W --> Justin Gaethje. 2024-10-26\n",
      "Alexander Volkanovski --KO/TKO L --> Ilia Topuria. 2024-10-26 | Ilia Topuria --KO/TKO W --> Max Holloway. 2024-10-26 | Max Holloway --UDEC L --> Dustin Poirier. 2024-10-26 | Dustin Poirier --SUB L --> Charles Oliveira. 2024-10-26 | Charles Oliveira --KO/TKO W --> Michael Chandler. 2024-10-26 | Michael Chandler --UDEC L --> Justin Gaethje. 2024-10-26\n"
     ]
    }
   ],
   "source": [
    "VolkGaethjePathsBefore2026 = DFS_BeforeDate(G, \"Alexander Volkanovski\", \"Justin Gaethje\", \"2026-09-01\")\n",
    "print(\"Paths from Alexander Volkanovski to Justin Gaethje before 2026-01-01:\")\n",
    "PrintCustomPaths(VolkGaethjePathsBefore2026)"
   ]
  },
  {
   "cell_type": "code",
   "execution_count": null,
   "id": "301aee1d",
   "metadata": {},
   "outputs": [],
   "source": []
  },
  {
   "cell_type": "markdown",
   "id": "9255a2f0",
   "metadata": {},
   "source": [
    "<h2> Build Trees from Paths </h2>\n",
    "\n",
    "For example, instead of \n",
    "\n",
    "    a->b->c\n",
    "    a->b->d\n",
    "\n",
    "We will want\n",
    "\n",
    "    a->b\n",
    "       b->c\n",
    "       b->d\n",
    "\n",
    "This will help visualize and better understand relationships"
   ]
  },
  {
   "cell_type": "code",
   "execution_count": 12,
   "id": "6e63793b",
   "metadata": {},
   "outputs": [],
   "source": [
    "def AddFightToTree(Tree, father, opponent, fightdate, fightresult, fightWL):\n",
    "    if father not in Tree:\n",
    "        Tree[father] = []\n",
    "    #print(f\"Adding fight: father: {father}, opponent: {opponent}, date: {fightdate}, result: {fightresult}, WL: {fightWL}\")\n",
    "    if (opponent, fightdate, fightresult, fightWL) in Tree[father]:\n",
    "        return\n",
    "    Tree[father].append((opponent,fightdate, fightresult, fightWL))\n",
    "\n",
    "\n",
    "def BuildTreesFromPaths(paths):\n",
    "    Trees = {}\n",
    "\n",
    "    for path in paths:\n",
    "\n",
    "        print(\"path:\", path)\n",
    "\n",
    "        for index in range(len(path)):\n",
    "            if index == 0:\n",
    "                continue\n",
    "\n",
    "            fight = path[index]\n",
    "\n",
    "            father = path[index - 1][0]\n",
    "            if index == 1:\n",
    "                father = path[index-1]\n",
    "            currFighter = fight[0]\n",
    "            fightdate = fight[1]\n",
    "            fightresult = fight[2]\n",
    "            fightWL = fight[3]\n",
    "            \n",
    "            AddFightToTree(Trees, father, currFighter, fightdate, fightresult, fightWL)\n",
    "\n",
    "            \n",
    "    return Trees\n",
    "\n"
   ]
  },
  {
   "cell_type": "code",
   "execution_count": 13,
   "id": "0fa41a71",
   "metadata": {},
   "outputs": [
    {
     "name": "stdout",
     "output_type": "stream",
     "text": [
      "path: ['Alexander Volkanovski', ('Max Holloway', '2024-10-26', 'UDEC', 'W'), ('Dustin Poirier', '2024-10-26', 'UDEC', 'L'), ('Justin Gaethje', '2024-10-26', 'KO/TKO', 'W')]\n",
      "path: ['Alexander Volkanovski', ('Max Holloway', '2024-10-26', 'UDEC', 'W'), ('Dustin Poirier', '2024-10-26', 'UDEC', 'L'), ('Charles Oliveira', '2024-10-26', 'SUB', 'L'), ('Justin Gaethje', '2024-10-26', 'SUB', 'W')]\n",
      "path: ['Alexander Volkanovski', ('Max Holloway', '2024-10-26', 'UDEC', 'W'), ('Dustin Poirier', '2024-10-26', 'UDEC', 'L'), ('Charles Oliveira', '2024-10-26', 'SUB', 'L'), ('Michael Chandler', '2024-10-26', 'KO/TKO', 'W'), ('Justin Gaethje', '2024-10-26', 'UDEC', 'L')]\n",
      "path: ['Alexander Volkanovski', ('Ilia Topuria', '2024-10-26', 'KO/TKO', 'L'), ('Max Holloway', '2024-10-26', 'KO/TKO', 'W'), ('Dustin Poirier', '2024-10-26', 'UDEC', 'L'), ('Justin Gaethje', '2024-10-26', 'KO/TKO', 'W')]\n",
      "path: ['Alexander Volkanovski', ('Ilia Topuria', '2024-10-26', 'KO/TKO', 'L'), ('Max Holloway', '2024-10-26', 'KO/TKO', 'W'), ('Dustin Poirier', '2024-10-26', 'UDEC', 'L'), ('Charles Oliveira', '2024-10-26', 'SUB', 'L'), ('Justin Gaethje', '2024-10-26', 'SUB', 'W')]\n",
      "path: ['Alexander Volkanovski', ('Ilia Topuria', '2024-10-26', 'KO/TKO', 'L'), ('Max Holloway', '2024-10-26', 'KO/TKO', 'W'), ('Dustin Poirier', '2024-10-26', 'UDEC', 'L'), ('Charles Oliveira', '2024-10-26', 'SUB', 'L'), ('Michael Chandler', '2024-10-26', 'KO/TKO', 'W'), ('Justin Gaethje', '2024-10-26', 'UDEC', 'L')]\n"
     ]
    }
   ],
   "source": [
    "VolkGaethje2026Trees = BuildTreesFromPaths(VolkGaethjePathsBefore2026)"
   ]
  },
  {
   "cell_type": "code",
   "execution_count": 17,
   "id": "50e40793",
   "metadata": {},
   "outputs": [
    {
     "name": "stdout",
     "output_type": "stream",
     "text": [
      "{'Alexander Volkanovski': [('Max Holloway', '2024-10-26', 'UDEC', 'W'), ('Ilia Topuria', '2024-10-26', 'KO/TKO', 'L')], 'Max Holloway': [('Dustin Poirier', '2024-10-26', 'UDEC', 'L')], 'Dustin Poirier': [('Justin Gaethje', '2024-10-26', 'KO/TKO', 'W'), ('Charles Oliveira', '2024-10-26', 'SUB', 'L')], 'Charles Oliveira': [('Justin Gaethje', '2024-10-26', 'SUB', 'W'), ('Michael Chandler', '2024-10-26', 'KO/TKO', 'W')], 'Michael Chandler': [('Justin Gaethje', '2024-10-26', 'UDEC', 'L')], 'Ilia Topuria': [('Max Holloway', '2024-10-26', 'KO/TKO', 'W')]}\n"
     ]
    }
   ],
   "source": [
    "print(VolkGaethje2026Trees)"
   ]
  },
  {
   "cell_type": "markdown",
   "id": "02a28cc6",
   "metadata": {},
   "source": [
    "<h2> Visualize Trees </h2>"
   ]
  },
  {
   "cell_type": "code",
   "execution_count": 28,
   "id": "a72f2a37",
   "metadata": {},
   "outputs": [],
   "source": [
    "from graphviz import Digraph\n",
    "\n",
    "dot = Digraph(comment='Fighter Paths')\n",
    "dot.attr(rankdir='TB')\n",
    "\n"
   ]
  },
  {
   "cell_type": "code",
   "execution_count": 107,
   "id": "520a909b",
   "metadata": {},
   "outputs": [],
   "source": [
    "from IPython.display import display, SVG\n",
    "\n",
    "def CreateVisualTreeFromTrees(Trees, rootFighter, targetFighter):\n",
    "    \n",
    "    dot = Digraph(comment='MMA Tree' + rootFighter + \" to \" + targetFighter)\n",
    "    dot.attr(rankdir='TB')\n",
    "\n",
    "    #Add node for target\n",
    "    dot.node(targetFighter, label=targetFighter, shape=\"doublecircle\", penwidth=\"2\")\n",
    "\n",
    "    # Add node for each fighter in the tree\n",
    "    for fighter in Trees:\n",
    "        shape = \"circle\"\n",
    "        color = \"black\"\n",
    "        penwidth = \"1\"\n",
    "        width = height = \"0.5\"\n",
    "        \n",
    "        if(fighter == rootFighter):\n",
    "            shape = \"doublecircle\"\n",
    "            color = \"black\"\n",
    "            penwidth = \"3\"\n",
    "            width = height = \"1\"\n",
    "        \n",
    "        dot.node(fighter, label=fighter, shape=shape,color=color,penwidth=penwidth,width=width,height=height)\n",
    "\n",
    "        # Add edges for each fight\n",
    "        for fight in Trees[fighter]:\n",
    "            opponent, date, result, WL = fight\n",
    "\n",
    "            if WL == \"W\":\n",
    "                edge_color = \"green\"\n",
    "            elif WL == \"L\":\n",
    "                edge_color = \"red\"\n",
    "            elif WL == \"D\":\n",
    "                edge_color = \"yellow\"\n",
    "\n",
    "            edge_label = f\"{result}\\n{date}\"\n",
    "            dot.edge(fighter, opponent, label=edge_label,color=edge_color,fontsize='10',labeldistance='5')\n",
    "\n",
    "    # To render in Jupyter without saving to file, display the SVG directly\n",
    "    SVG(dot.pipe(format='svg'))\n",
    "  \n",
    "    #TODO add boolean option to save to file\n",
    "\n",
    "    return dot\n"
   ]
  },
  {
   "cell_type": "code",
   "execution_count": 108,
   "id": "7e41de53",
   "metadata": {},
   "outputs": [
    {
     "data": {
      "image/svg+xml": [
       "<?xml version=\"1.0\" encoding=\"UTF-8\" standalone=\"no\"?>\n",
       "<!DOCTYPE svg PUBLIC \"-//W3C//DTD SVG 1.1//EN\"\n",
       " \"http://www.w3.org/Graphics/SVG/1.1/DTD/svg11.dtd\">\n",
       "<!-- Generated by graphviz version 2.43.0 (0)\n",
       " -->\n",
       "<!-- Title: %3 Pages: 1 -->\n",
       "<svg width=\"420pt\" height=\"1501pt\"\n",
       " viewBox=\"0.00 0.00 420.34 1501.20\" xmlns=\"http://www.w3.org/2000/svg\" xmlns:xlink=\"http://www.w3.org/1999/xlink\">\n",
       "<g id=\"graph0\" class=\"graph\" transform=\"scale(1 1) rotate(0) translate(4 1497.2)\">\n",
       "<title>%3</title>\n",
       "<polygon fill=\"white\" stroke=\"transparent\" points=\"-4,4 -4,-1497.2 416.34,-1497.2 416.34,4 -4,4\"/>\n",
       "<!-- Justin Gaethje -->\n",
       "<g id=\"node1\" class=\"node\">\n",
       "<title>Justin Gaethje</title>\n",
       "<ellipse fill=\"none\" stroke=\"black\" stroke-width=\"2\" cx=\"152.39\" cy=\"-80.69\" rx=\"76.88\" ry=\"76.88\"/>\n",
       "<ellipse fill=\"none\" stroke=\"black\" stroke-width=\"2\" cx=\"152.39\" cy=\"-80.69\" rx=\"80.89\" ry=\"80.89\"/>\n",
       "<text text-anchor=\"middle\" x=\"152.39\" y=\"-76.99\" font-family=\"Times,serif\" font-size=\"14.00\">Justin Gaethje</text>\n",
       "</g>\n",
       "<!-- Alexander Volkanovski -->\n",
       "<g id=\"node2\" class=\"node\">\n",
       "<title>Alexander Volkanovski</title>\n",
       "<ellipse fill=\"none\" stroke=\"black\" stroke-width=\"3\" cx=\"97.39\" cy=\"-1395.81\" rx=\"93.29\" ry=\"93.29\"/>\n",
       "<ellipse fill=\"none\" stroke=\"black\" stroke-width=\"3\" cx=\"97.39\" cy=\"-1395.81\" rx=\"97.29\" ry=\"97.29\"/>\n",
       "<text text-anchor=\"middle\" x=\"97.39\" y=\"-1392.11\" font-family=\"Times,serif\" font-size=\"14.00\">Alexander Volkanovski</text>\n",
       "</g>\n",
       "<!-- Max Holloway -->\n",
       "<g id=\"node3\" class=\"node\">\n",
       "<title>Max Holloway</title>\n",
       "<ellipse fill=\"none\" stroke=\"black\" cx=\"97.39\" cy=\"-978.33\" rx=\"76.89\" ry=\"76.89\"/>\n",
       "<text text-anchor=\"middle\" x=\"97.39\" y=\"-974.63\" font-family=\"Times,serif\" font-size=\"14.00\">Max Holloway</text>\n",
       "</g>\n",
       "<!-- Alexander Volkanovski&#45;&gt;Max Holloway -->\n",
       "<g id=\"edge1\" class=\"edge\">\n",
       "<title>Alexander Volkanovski&#45;&gt;Max Holloway</title>\n",
       "<path fill=\"none\" stroke=\"green\" d=\"M92.35,-1298.47C91.53,-1279.25 90.82,-1259.19 90.39,-1240.42 89.11,-1183.81 88.91,-1169.63 90.39,-1113.03 90.8,-1097.59 91.46,-1081.16 92.23,-1065.29\"/>\n",
       "<polygon fill=\"green\" stroke=\"green\" points=\"95.74,-1065.12 92.74,-1054.96 88.75,-1064.77 95.74,-1065.12\"/>\n",
       "<text text-anchor=\"middle\" x=\"118.39\" y=\"-1179.72\" font-family=\"Times,serif\" font-size=\"10.00\">UDEC</text>\n",
       "<text text-anchor=\"middle\" x=\"118.39\" y=\"-1168.72\" font-family=\"Times,serif\" font-size=\"10.00\">2024&#45;10&#45;26</text>\n",
       "</g>\n",
       "<!-- Ilia Topuria -->\n",
       "<g id=\"node4\" class=\"node\">\n",
       "<title>Ilia Topuria</title>\n",
       "<ellipse fill=\"none\" stroke=\"black\" cx=\"219.39\" cy=\"-1176.72\" rx=\"63.89\" ry=\"63.89\"/>\n",
       "<text text-anchor=\"middle\" x=\"219.39\" y=\"-1173.02\" font-family=\"Times,serif\" font-size=\"14.00\">Ilia Topuria</text>\n",
       "</g>\n",
       "<!-- Alexander Volkanovski&#45;&gt;Ilia Topuria -->\n",
       "<g id=\"edge2\" class=\"edge\">\n",
       "<title>Alexander Volkanovski&#45;&gt;Ilia Topuria</title>\n",
       "<path fill=\"none\" stroke=\"red\" d=\"M144.74,-1310.57C157.63,-1287.63 171.38,-1263.16 183.52,-1241.56\"/>\n",
       "<polygon fill=\"red\" stroke=\"red\" points=\"186.59,-1243.23 188.44,-1232.8 180.49,-1239.8 186.59,-1243.23\"/>\n",
       "<text text-anchor=\"middle\" x=\"200.39\" y=\"-1272.42\" font-family=\"Times,serif\" font-size=\"10.00\">KO/TKO</text>\n",
       "<text text-anchor=\"middle\" x=\"200.39\" y=\"-1261.42\" font-family=\"Times,serif\" font-size=\"10.00\">2024&#45;10&#45;26</text>\n",
       "</g>\n",
       "<!-- Dustin Poirier -->\n",
       "<g id=\"node5\" class=\"node\">\n",
       "<title>Dustin Poirier</title>\n",
       "<ellipse fill=\"none\" stroke=\"black\" cx=\"97.39\" cy=\"-768.25\" rx=\"75.29\" ry=\"75.29\"/>\n",
       "<text text-anchor=\"middle\" x=\"97.39\" y=\"-764.55\" font-family=\"Times,serif\" font-size=\"14.00\">Dustin Poirier</text>\n",
       "</g>\n",
       "<!-- Max Holloway&#45;&gt;Dustin Poirier -->\n",
       "<g id=\"edge3\" class=\"edge\">\n",
       "<title>Max Holloway&#45;&gt;Dustin Poirier</title>\n",
       "<path fill=\"none\" stroke=\"red\" d=\"M97.39,-901.62C97.39,-886.18 97.39,-869.84 97.39,-854.1\"/>\n",
       "<polygon fill=\"red\" stroke=\"red\" points=\"100.89,-853.86 97.39,-843.86 93.89,-853.86 100.89,-853.86\"/>\n",
       "<text text-anchor=\"middle\" x=\"125.39\" y=\"-875.64\" font-family=\"Times,serif\" font-size=\"10.00\">UDEC</text>\n",
       "<text text-anchor=\"middle\" x=\"125.39\" y=\"-864.64\" font-family=\"Times,serif\" font-size=\"10.00\">2024&#45;10&#45;26</text>\n",
       "</g>\n",
       "<!-- Ilia Topuria&#45;&gt;Max Holloway -->\n",
       "<g id=\"edge9\" class=\"edge\">\n",
       "<title>Ilia Topuria&#45;&gt;Max Holloway</title>\n",
       "<path fill=\"none\" stroke=\"green\" d=\"M186.22,-1122.32C172.89,-1100.87 157.31,-1075.78 142.95,-1052.67\"/>\n",
       "<polygon fill=\"green\" stroke=\"green\" points=\"145.76,-1050.56 137.51,-1043.92 139.82,-1054.26 145.76,-1050.56\"/>\n",
       "<text text-anchor=\"middle\" x=\"193.39\" y=\"-1087.03\" font-family=\"Times,serif\" font-size=\"10.00\">KO/TKO</text>\n",
       "<text text-anchor=\"middle\" x=\"193.39\" y=\"-1076.03\" font-family=\"Times,serif\" font-size=\"10.00\">2024&#45;10&#45;26</text>\n",
       "</g>\n",
       "<!-- Dustin Poirier&#45;&gt;Justin Gaethje -->\n",
       "<g id=\"edge4\" class=\"edge\">\n",
       "<title>Dustin Poirier&#45;&gt;Justin Gaethje</title>\n",
       "<path fill=\"none\" stroke=\"green\" d=\"M96.27,-692.86C95.78,-631.28 96.1,-541.53 100.39,-463.27 105.93,-362.32 123.07,-247.5 136.17,-170.41\"/>\n",
       "<polygon fill=\"green\" stroke=\"green\" points=\"139.67,-170.71 137.91,-160.26 132.77,-169.53 139.67,-170.71\"/>\n",
       "<text text-anchor=\"middle\" x=\"131.39\" y=\"-437.27\" font-family=\"Times,serif\" font-size=\"10.00\">KO/TKO</text>\n",
       "<text text-anchor=\"middle\" x=\"131.39\" y=\"-426.27\" font-family=\"Times,serif\" font-size=\"10.00\">2024&#45;10&#45;26</text>\n",
       "</g>\n",
       "<!-- Charles Oliveira -->\n",
       "<g id=\"node6\" class=\"node\">\n",
       "<title>Charles Oliveira</title>\n",
       "<ellipse fill=\"none\" stroke=\"black\" cx=\"195.39\" cy=\"-549.06\" rx=\"85.59\" ry=\"85.59\"/>\n",
       "<text text-anchor=\"middle\" x=\"195.39\" y=\"-545.36\" font-family=\"Times,serif\" font-size=\"14.00\">Charles Oliveira</text>\n",
       "</g>\n",
       "<!-- Dustin Poirier&#45;&gt;Charles Oliveira -->\n",
       "<g id=\"edge5\" class=\"edge\">\n",
       "<title>Dustin Poirier&#45;&gt;Charles Oliveira</title>\n",
       "<path fill=\"none\" stroke=\"red\" d=\"M128.13,-699.12C136.99,-679.49 146.78,-657.8 156.08,-637.18\"/>\n",
       "<polygon fill=\"red\" stroke=\"red\" points=\"159.4,-638.35 160.32,-627.79 153.02,-635.47 159.4,-638.35\"/>\n",
       "<text text-anchor=\"middle\" x=\"174.39\" y=\"-666.85\" font-family=\"Times,serif\" font-size=\"10.00\">SUB</text>\n",
       "<text text-anchor=\"middle\" x=\"174.39\" y=\"-655.85\" font-family=\"Times,serif\" font-size=\"10.00\">2024&#45;10&#45;26</text>\n",
       "</g>\n",
       "<!-- Charles Oliveira&#45;&gt;Justin Gaethje -->\n",
       "<g id=\"edge6\" class=\"edge\">\n",
       "<title>Charles Oliveira&#45;&gt;Justin Gaethje</title>\n",
       "<path fill=\"none\" stroke=\"green\" d=\"M172.79,-465.92C168.21,-446.2 164,-425.1 161.39,-405.27 151.08,-326.86 149.39,-236.88 149.95,-171.74\"/>\n",
       "<polygon fill=\"green\" stroke=\"green\" points=\"153.45,-171.55 150.06,-161.51 146.45,-171.47 153.45,-171.55\"/>\n",
       "<text text-anchor=\"middle\" x=\"189.39\" y=\"-315.33\" font-family=\"Times,serif\" font-size=\"10.00\">SUB</text>\n",
       "<text text-anchor=\"middle\" x=\"189.39\" y=\"-304.33\" font-family=\"Times,serif\" font-size=\"10.00\">2024&#45;10&#45;26</text>\n",
       "</g>\n",
       "<!-- Michael Chandler -->\n",
       "<g id=\"node7\" class=\"node\">\n",
       "<title>Michael Chandler</title>\n",
       "<ellipse fill=\"none\" stroke=\"black\" cx=\"319.39\" cy=\"-312.33\" rx=\"92.88\" ry=\"92.88\"/>\n",
       "<text text-anchor=\"middle\" x=\"319.39\" y=\"-308.63\" font-family=\"Times,serif\" font-size=\"14.00\">Michael Chandler</text>\n",
       "</g>\n",
       "<!-- Charles Oliveira&#45;&gt;Michael Chandler -->\n",
       "<g id=\"edge7\" class=\"edge\">\n",
       "<title>Charles Oliveira&#45;&gt;Michael Chandler</title>\n",
       "<path fill=\"none\" stroke=\"green\" d=\"M235.14,-472.82C246.71,-450.92 259.47,-426.76 271.49,-404.02\"/>\n",
       "<polygon fill=\"green\" stroke=\"green\" points=\"274.65,-405.52 276.23,-395.04 268.46,-402.25 274.65,-405.52\"/>\n",
       "<text text-anchor=\"middle\" x=\"288.39\" y=\"-437.27\" font-family=\"Times,serif\" font-size=\"10.00\">KO/TKO</text>\n",
       "<text text-anchor=\"middle\" x=\"288.39\" y=\"-426.27\" font-family=\"Times,serif\" font-size=\"10.00\">2024&#45;10&#45;26</text>\n",
       "</g>\n",
       "<!-- Michael Chandler&#45;&gt;Justin Gaethje -->\n",
       "<g id=\"edge8\" class=\"edge\">\n",
       "<title>Michael Chandler&#45;&gt;Justin Gaethje</title>\n",
       "<path fill=\"none\" stroke=\"red\" d=\"M265.17,-236.77C246.09,-210.54 224.68,-181.09 205.68,-154.97\"/>\n",
       "<polygon fill=\"red\" stroke=\"red\" points=\"208.31,-152.64 199.6,-146.61 202.65,-156.75 208.31,-152.64\"/>\n",
       "<text text-anchor=\"middle\" x=\"263.39\" y=\"-193.39\" font-family=\"Times,serif\" font-size=\"10.00\">UDEC</text>\n",
       "<text text-anchor=\"middle\" x=\"263.39\" y=\"-182.39\" font-family=\"Times,serif\" font-size=\"10.00\">2024&#45;10&#45;26</text>\n",
       "</g>\n",
       "</g>\n",
       "</svg>\n"
      ],
      "text/plain": [
       "<graphviz.graphs.Digraph at 0x7f7d672765a0>"
      ]
     },
     "execution_count": 108,
     "metadata": {},
     "output_type": "execute_result"
    }
   ],
   "source": [
    "CreateVisualTreeFromTrees(VolkGaethje2026Trees, \"Alexander Volkanovski\", \"Justin Gaethje\")"
   ]
  },
  {
   "cell_type": "code",
   "execution_count": 88,
   "id": "3a4f443a",
   "metadata": {},
   "outputs": [],
   "source": [
    "def RunWholeAnalysis(rootFighter, targetFighter, cutoff_date_str):\n",
    "    paths = DFS_BeforeDate(G, rootFighter, targetFighter, cutoff_date_str)\n",
    "    print(f\"Found {len(paths)} paths from {rootFighter} to {targetFighter} before {cutoff_date_str}:\")\n",
    "    PrintCustomPaths(paths)\n",
    "    trees = BuildTreesFromPaths(paths)\n",
    "    print(\"Trees\")\n",
    "    print(trees)\n",
    "    dot = CreateVisualTreeFromTrees(trees, rootFighter, targetFighter)\n",
    "    return dot"
   ]
  },
  {
   "cell_type": "code",
   "execution_count": 90,
   "id": "73ab0798",
   "metadata": {},
   "outputs": [
    {
     "name": "stdout",
     "output_type": "stream",
     "text": [
      "Found 8 paths from Ilia Topuria to Paddy Pimblett before 2026-01-01:\n",
      "Ilia Topuria --KO/TKO W --> Alexander Volkanovski. 2024-10-26 | Alexander Volkanovski --UDEC W --> Max Holloway. 2024-10-26 | Max Holloway --UDEC L --> Dustin Poirier. 2024-10-26 | Dustin Poirier --KO/TKO W --> Justin Gaethje. 2024-10-26 | Justin Gaethje --SUB L --> Charles Oliveira. 2024-10-26 | Charles Oliveira --KO/TKO W --> Michael Chandler. 2024-10-26 | Michael Chandler --SUB L --> Paddy Pimblett. 2024-10-26\n",
      "Ilia Topuria --KO/TKO W --> Alexander Volkanovski. 2024-10-26 | Alexander Volkanovski --UDEC W --> Max Holloway. 2024-10-26 | Max Holloway --UDEC L --> Dustin Poirier. 2024-10-26 | Dustin Poirier --KO/TKO W --> Justin Gaethje. 2024-10-26 | Justin Gaethje --UDEC W --> Michael Chandler. 2024-10-26 | Michael Chandler --SUB L --> Paddy Pimblett. 2024-10-26\n",
      "Ilia Topuria --KO/TKO W --> Alexander Volkanovski. 2024-10-26 | Alexander Volkanovski --UDEC W --> Max Holloway. 2024-10-26 | Max Holloway --UDEC L --> Dustin Poirier. 2024-10-26 | Dustin Poirier --SUB L --> Charles Oliveira. 2024-10-26 | Charles Oliveira --SUB W --> Justin Gaethje. 2024-10-26 | Justin Gaethje --UDEC W --> Michael Chandler. 2024-10-26 | Michael Chandler --SUB L --> Paddy Pimblett. 2024-10-26\n",
      "Ilia Topuria --KO/TKO W --> Alexander Volkanovski. 2024-10-26 | Alexander Volkanovski --UDEC W --> Max Holloway. 2024-10-26 | Max Holloway --UDEC L --> Dustin Poirier. 2024-10-26 | Dustin Poirier --SUB L --> Charles Oliveira. 2024-10-26 | Charles Oliveira --KO/TKO W --> Michael Chandler. 2024-10-26 | Michael Chandler --SUB L --> Paddy Pimblett. 2024-10-26\n",
      "Ilia Topuria --KO/TKO W --> Max Holloway. 2024-10-26 | Max Holloway --UDEC L --> Dustin Poirier. 2024-10-26 | Dustin Poirier --KO/TKO W --> Justin Gaethje. 2024-10-26 | Justin Gaethje --SUB L --> Charles Oliveira. 2024-10-26 | Charles Oliveira --KO/TKO W --> Michael Chandler. 2024-10-26 | Michael Chandler --SUB L --> Paddy Pimblett. 2024-10-26\n",
      "Ilia Topuria --KO/TKO W --> Max Holloway. 2024-10-26 | Max Holloway --UDEC L --> Dustin Poirier. 2024-10-26 | Dustin Poirier --KO/TKO W --> Justin Gaethje. 2024-10-26 | Justin Gaethje --UDEC W --> Michael Chandler. 2024-10-26 | Michael Chandler --SUB L --> Paddy Pimblett. 2024-10-26\n",
      "Ilia Topuria --KO/TKO W --> Max Holloway. 2024-10-26 | Max Holloway --UDEC L --> Dustin Poirier. 2024-10-26 | Dustin Poirier --SUB L --> Charles Oliveira. 2024-10-26 | Charles Oliveira --SUB W --> Justin Gaethje. 2024-10-26 | Justin Gaethje --UDEC W --> Michael Chandler. 2024-10-26 | Michael Chandler --SUB L --> Paddy Pimblett. 2024-10-26\n",
      "Ilia Topuria --KO/TKO W --> Max Holloway. 2024-10-26 | Max Holloway --UDEC L --> Dustin Poirier. 2024-10-26 | Dustin Poirier --SUB L --> Charles Oliveira. 2024-10-26 | Charles Oliveira --KO/TKO W --> Michael Chandler. 2024-10-26 | Michael Chandler --SUB L --> Paddy Pimblett. 2024-10-26\n",
      "path: ['Ilia Topuria', ('Alexander Volkanovski', '2024-10-26', 'KO/TKO', 'W'), ('Max Holloway', '2024-10-26', 'UDEC', 'W'), ('Dustin Poirier', '2024-10-26', 'UDEC', 'L'), ('Justin Gaethje', '2024-10-26', 'KO/TKO', 'W'), ('Charles Oliveira', '2024-10-26', 'SUB', 'L'), ('Michael Chandler', '2024-10-26', 'KO/TKO', 'W'), ('Paddy Pimblett', '2024-10-26', 'SUB', 'L')]\n",
      "path: ['Ilia Topuria', ('Alexander Volkanovski', '2024-10-26', 'KO/TKO', 'W'), ('Max Holloway', '2024-10-26', 'UDEC', 'W'), ('Dustin Poirier', '2024-10-26', 'UDEC', 'L'), ('Justin Gaethje', '2024-10-26', 'KO/TKO', 'W'), ('Michael Chandler', '2024-10-26', 'UDEC', 'W'), ('Paddy Pimblett', '2024-10-26', 'SUB', 'L')]\n",
      "path: ['Ilia Topuria', ('Alexander Volkanovski', '2024-10-26', 'KO/TKO', 'W'), ('Max Holloway', '2024-10-26', 'UDEC', 'W'), ('Dustin Poirier', '2024-10-26', 'UDEC', 'L'), ('Charles Oliveira', '2024-10-26', 'SUB', 'L'), ('Justin Gaethje', '2024-10-26', 'SUB', 'W'), ('Michael Chandler', '2024-10-26', 'UDEC', 'W'), ('Paddy Pimblett', '2024-10-26', 'SUB', 'L')]\n",
      "path: ['Ilia Topuria', ('Alexander Volkanovski', '2024-10-26', 'KO/TKO', 'W'), ('Max Holloway', '2024-10-26', 'UDEC', 'W'), ('Dustin Poirier', '2024-10-26', 'UDEC', 'L'), ('Charles Oliveira', '2024-10-26', 'SUB', 'L'), ('Michael Chandler', '2024-10-26', 'KO/TKO', 'W'), ('Paddy Pimblett', '2024-10-26', 'SUB', 'L')]\n",
      "path: ['Ilia Topuria', ('Max Holloway', '2024-10-26', 'KO/TKO', 'W'), ('Dustin Poirier', '2024-10-26', 'UDEC', 'L'), ('Justin Gaethje', '2024-10-26', 'KO/TKO', 'W'), ('Charles Oliveira', '2024-10-26', 'SUB', 'L'), ('Michael Chandler', '2024-10-26', 'KO/TKO', 'W'), ('Paddy Pimblett', '2024-10-26', 'SUB', 'L')]\n",
      "path: ['Ilia Topuria', ('Max Holloway', '2024-10-26', 'KO/TKO', 'W'), ('Dustin Poirier', '2024-10-26', 'UDEC', 'L'), ('Justin Gaethje', '2024-10-26', 'KO/TKO', 'W'), ('Michael Chandler', '2024-10-26', 'UDEC', 'W'), ('Paddy Pimblett', '2024-10-26', 'SUB', 'L')]\n",
      "path: ['Ilia Topuria', ('Max Holloway', '2024-10-26', 'KO/TKO', 'W'), ('Dustin Poirier', '2024-10-26', 'UDEC', 'L'), ('Charles Oliveira', '2024-10-26', 'SUB', 'L'), ('Justin Gaethje', '2024-10-26', 'SUB', 'W'), ('Michael Chandler', '2024-10-26', 'UDEC', 'W'), ('Paddy Pimblett', '2024-10-26', 'SUB', 'L')]\n",
      "path: ['Ilia Topuria', ('Max Holloway', '2024-10-26', 'KO/TKO', 'W'), ('Dustin Poirier', '2024-10-26', 'UDEC', 'L'), ('Charles Oliveira', '2024-10-26', 'SUB', 'L'), ('Michael Chandler', '2024-10-26', 'KO/TKO', 'W'), ('Paddy Pimblett', '2024-10-26', 'SUB', 'L')]\n",
      "Trees\n",
      "{'Ilia Topuria': [('Alexander Volkanovski', '2024-10-26', 'KO/TKO', 'W'), ('Max Holloway', '2024-10-26', 'KO/TKO', 'W')], 'Alexander Volkanovski': [('Max Holloway', '2024-10-26', 'UDEC', 'W')], 'Max Holloway': [('Dustin Poirier', '2024-10-26', 'UDEC', 'L')], 'Dustin Poirier': [('Justin Gaethje', '2024-10-26', 'KO/TKO', 'W'), ('Charles Oliveira', '2024-10-26', 'SUB', 'L')], 'Justin Gaethje': [('Charles Oliveira', '2024-10-26', 'SUB', 'L'), ('Michael Chandler', '2024-10-26', 'UDEC', 'W')], 'Charles Oliveira': [('Michael Chandler', '2024-10-26', 'KO/TKO', 'W'), ('Justin Gaethje', '2024-10-26', 'SUB', 'W')], 'Michael Chandler': [('Paddy Pimblett', '2024-10-26', 'SUB', 'L')]}\n",
      "done\n"
     ]
    },
    {
     "data": {
      "image/svg+xml": [
       "<?xml version=\"1.0\" encoding=\"UTF-8\" standalone=\"no\"?>\n",
       "<!DOCTYPE svg PUBLIC \"-//W3C//DTD SVG 1.1//EN\"\n",
       " \"http://www.w3.org/Graphics/SVG/1.1/DTD/svg11.dtd\">\n",
       "<!-- Generated by graphviz version 2.43.0 (0)\n",
       " -->\n",
       "<!-- Title: %3 Pages: 1 -->\n",
       "<svg width=\"331pt\" height=\"1742pt\"\n",
       " viewBox=\"0.00 0.00 330.73 1742.31\" xmlns=\"http://www.w3.org/2000/svg\" xmlns:xlink=\"http://www.w3.org/1999/xlink\">\n",
       "<g id=\"graph0\" class=\"graph\" transform=\"scale(1 1) rotate(0) translate(4 1738.31)\">\n",
       "<title>%3</title>\n",
       "<polygon fill=\"white\" stroke=\"transparent\" points=\"-4,4 -4,-1738.31 326.73,-1738.31 326.73,4 -4,4\"/>\n",
       "<!-- Paddy Pimblett -->\n",
       "<g id=\"node1\" class=\"node\">\n",
       "<title>Paddy Pimblett</title>\n",
       "<ellipse fill=\"none\" stroke=\"black\" stroke-width=\"2\" cx=\"92.94\" cy=\"-85.89\" rx=\"81.79\" ry=\"81.79\"/>\n",
       "<ellipse fill=\"none\" stroke=\"black\" stroke-width=\"2\" cx=\"92.94\" cy=\"-85.89\" rx=\"85.79\" ry=\"85.79\"/>\n",
       "<text text-anchor=\"middle\" x=\"92.94\" y=\"-82.19\" font-family=\"Times,serif\" font-size=\"14.00\">Paddy Pimblett</text>\n",
       "</g>\n",
       "<!-- Ilia Topuria -->\n",
       "<g id=\"node2\" class=\"node\">\n",
       "<title>Ilia Topuria</title>\n",
       "<ellipse fill=\"none\" stroke=\"black\" stroke-width=\"3\" cx=\"197.94\" cy=\"-1678.6\" rx=\"51.9\" ry=\"51.9\"/>\n",
       "<ellipse fill=\"none\" stroke=\"black\" stroke-width=\"3\" cx=\"197.94\" cy=\"-1678.6\" rx=\"55.92\" ry=\"55.92\"/>\n",
       "<text text-anchor=\"middle\" x=\"197.94\" y=\"-1674.9\" font-family=\"Times,serif\" font-size=\"14.00\">Ilia Topuria</text>\n",
       "</g>\n",
       "<!-- Alexander Volkanovski -->\n",
       "<g id=\"node3\" class=\"node\">\n",
       "<title>Alexander Volkanovski</title>\n",
       "<ellipse fill=\"none\" stroke=\"black\" cx=\"122.94\" cy=\"-1449.85\" rx=\"115.08\" ry=\"115.08\"/>\n",
       "<text text-anchor=\"middle\" x=\"122.94\" y=\"-1446.15\" font-family=\"Times,serif\" font-size=\"14.00\">Alexander Volkanovski</text>\n",
       "</g>\n",
       "<!-- Ilia Topuria&#45;&gt;Alexander Volkanovski -->\n",
       "<g id=\"edge1\" class=\"edge\">\n",
       "<title>Ilia Topuria&#45;&gt;Alexander Volkanovski</title>\n",
       "<path fill=\"none\" stroke=\"green\" d=\"M180.74,-1625.58C175.12,-1608.61 168.64,-1589.02 162.1,-1569.23\"/>\n",
       "<polygon fill=\"green\" stroke=\"green\" points=\"165.34,-1567.9 158.88,-1559.51 158.7,-1570.1 165.34,-1567.9\"/>\n",
       "<text text-anchor=\"middle\" x=\"200.94\" y=\"-1596.89\" font-family=\"Times,serif\" font-size=\"10.00\">KO/TKO</text>\n",
       "<text text-anchor=\"middle\" x=\"200.94\" y=\"-1585.89\" font-family=\"Times,serif\" font-size=\"10.00\">2024&#45;10&#45;26</text>\n",
       "</g>\n",
       "<!-- Max Holloway -->\n",
       "<g id=\"node4\" class=\"node\">\n",
       "<title>Max Holloway</title>\n",
       "<ellipse fill=\"none\" stroke=\"black\" cx=\"217.94\" cy=\"-1200.12\" rx=\"76.89\" ry=\"76.89\"/>\n",
       "<text text-anchor=\"middle\" x=\"217.94\" y=\"-1196.42\" font-family=\"Times,serif\" font-size=\"14.00\">Max Holloway</text>\n",
       "</g>\n",
       "<!-- Ilia Topuria&#45;&gt;Max Holloway -->\n",
       "<g id=\"edge2\" class=\"edge\">\n",
       "<title>Ilia Topuria&#45;&gt;Max Holloway</title>\n",
       "<path fill=\"none\" stroke=\"green\" d=\"M224.92,-1629.55C234.19,-1610.13 243.17,-1587.08 246.94,-1564.89 267.06,-1446.52 264.18,-1412.61 240.94,-1294.81 240.27,-1291.42 239.56,-1287.97 238.82,-1284.49\"/>\n",
       "<polygon fill=\"green\" stroke=\"green\" points=\"242.22,-1283.65 236.66,-1274.63 235.38,-1285.14 242.22,-1283.65\"/>\n",
       "<text text-anchor=\"middle\" x=\"287.94\" y=\"-1452.85\" font-family=\"Times,serif\" font-size=\"10.00\">KO/TKO</text>\n",
       "<text text-anchor=\"middle\" x=\"287.94\" y=\"-1441.85\" font-family=\"Times,serif\" font-size=\"10.00\">2024&#45;10&#45;26</text>\n",
       "</g>\n",
       "<!-- Alexander Volkanovski&#45;&gt;Max Holloway -->\n",
       "<g id=\"edge3\" class=\"edge\">\n",
       "<title>Alexander Volkanovski&#45;&gt;Max Holloway</title>\n",
       "<path fill=\"none\" stroke=\"green\" d=\"M163.92,-1341.99C171.73,-1321.62 179.78,-1300.63 187.21,-1281.27\"/>\n",
       "<polygon fill=\"green\" stroke=\"green\" points=\"190.48,-1282.5 190.8,-1271.91 183.95,-1279.99 190.48,-1282.5\"/>\n",
       "<text text-anchor=\"middle\" x=\"208.94\" y=\"-1308.81\" font-family=\"Times,serif\" font-size=\"10.00\">UDEC</text>\n",
       "<text text-anchor=\"middle\" x=\"208.94\" y=\"-1297.81\" font-family=\"Times,serif\" font-size=\"10.00\">2024&#45;10&#45;26</text>\n",
       "</g>\n",
       "<!-- Dustin Poirier -->\n",
       "<g id=\"node5\" class=\"node\">\n",
       "<title>Dustin Poirier</title>\n",
       "<ellipse fill=\"none\" stroke=\"black\" cx=\"217.94\" cy=\"-990.03\" rx=\"75.29\" ry=\"75.29\"/>\n",
       "<text text-anchor=\"middle\" x=\"217.94\" y=\"-986.33\" font-family=\"Times,serif\" font-size=\"14.00\">Dustin Poirier</text>\n",
       "</g>\n",
       "<!-- Max Holloway&#45;&gt;Dustin Poirier -->\n",
       "<g id=\"edge4\" class=\"edge\">\n",
       "<title>Max Holloway&#45;&gt;Dustin Poirier</title>\n",
       "<path fill=\"none\" stroke=\"red\" d=\"M217.94,-1123.41C217.94,-1107.96 217.94,-1091.62 217.94,-1075.88\"/>\n",
       "<polygon fill=\"red\" stroke=\"red\" points=\"221.44,-1075.65 217.94,-1065.65 214.44,-1075.65 221.44,-1075.65\"/>\n",
       "<text text-anchor=\"middle\" x=\"245.94\" y=\"-1097.43\" font-family=\"Times,serif\" font-size=\"10.00\">UDEC</text>\n",
       "<text text-anchor=\"middle\" x=\"245.94\" y=\"-1086.43\" font-family=\"Times,serif\" font-size=\"10.00\">2024&#45;10&#45;26</text>\n",
       "</g>\n",
       "<!-- Justin Gaethje -->\n",
       "<g id=\"node6\" class=\"node\">\n",
       "<title>Justin Gaethje</title>\n",
       "<ellipse fill=\"none\" stroke=\"black\" cx=\"152.94\" cy=\"-779.95\" rx=\"76.89\" ry=\"76.89\"/>\n",
       "<text text-anchor=\"middle\" x=\"152.94\" y=\"-776.25\" font-family=\"Times,serif\" font-size=\"14.00\">Justin Gaethje</text>\n",
       "</g>\n",
       "<!-- Dustin Poirier&#45;&gt;Justin Gaethje -->\n",
       "<g id=\"edge5\" class=\"edge\">\n",
       "<title>Dustin Poirier&#45;&gt;Justin Gaethje</title>\n",
       "<path fill=\"none\" stroke=\"green\" d=\"M195.66,-917.71C190.21,-900.24 184.32,-881.4 178.71,-863.45\"/>\n",
       "<polygon fill=\"green\" stroke=\"green\" points=\"181.96,-862.09 175.63,-853.59 175.27,-864.18 181.96,-862.09\"/>\n",
       "<text text-anchor=\"middle\" x=\"214.94\" y=\"-888.64\" font-family=\"Times,serif\" font-size=\"10.00\">KO/TKO</text>\n",
       "<text text-anchor=\"middle\" x=\"214.94\" y=\"-877.64\" font-family=\"Times,serif\" font-size=\"10.00\">2024&#45;10&#45;26</text>\n",
       "</g>\n",
       "<!-- Charles Oliveira -->\n",
       "<g id=\"node7\" class=\"node\">\n",
       "<title>Charles Oliveira</title>\n",
       "<ellipse fill=\"none\" stroke=\"black\" cx=\"236.94\" cy=\"-559.46\" rx=\"85.59\" ry=\"85.59\"/>\n",
       "<text text-anchor=\"middle\" x=\"236.94\" y=\"-555.76\" font-family=\"Times,serif\" font-size=\"14.00\">Charles Oliveira</text>\n",
       "</g>\n",
       "<!-- Dustin Poirier&#45;&gt;Charles Oliveira -->\n",
       "<g id=\"edge6\" class=\"edge\">\n",
       "<title>Dustin Poirier&#45;&gt;Charles Oliveira</title>\n",
       "<path fill=\"none\" stroke=\"red\" d=\"M242.1,-918.36C243.99,-911.09 245.66,-903.76 246.94,-896.64 265.33,-794.44 268.39,-766.57 257.94,-663.25 257.61,-659.99 257.22,-656.68 256.79,-653.34\"/>\n",
       "<polygon fill=\"red\" stroke=\"red\" points=\"260.23,-652.68 255.35,-643.27 253.3,-653.67 260.23,-652.68\"/>\n",
       "<text text-anchor=\"middle\" x=\"290.94\" y=\"-782.95\" font-family=\"Times,serif\" font-size=\"10.00\">SUB</text>\n",
       "<text text-anchor=\"middle\" x=\"290.94\" y=\"-771.95\" font-family=\"Times,serif\" font-size=\"10.00\">2024&#45;10&#45;26</text>\n",
       "</g>\n",
       "<!-- Justin Gaethje&#45;&gt;Charles Oliveira -->\n",
       "<g id=\"edge7\" class=\"edge\">\n",
       "<title>Justin Gaethje&#45;&gt;Charles Oliveira</title>\n",
       "<path fill=\"none\" stroke=\"red\" d=\"M181.72,-708.7C184.87,-700.8 188,-692.87 190.94,-685.25 195.35,-673.87 199.9,-661.86 204.34,-649.98\"/>\n",
       "<polygon fill=\"red\" stroke=\"red\" points=\"207.66,-651.08 207.87,-640.49 201.1,-648.64 207.66,-651.08\"/>\n",
       "<text text-anchor=\"middle\" x=\"225.94\" y=\"-677.25\" font-family=\"Times,serif\" font-size=\"10.00\">SUB</text>\n",
       "<text text-anchor=\"middle\" x=\"225.94\" y=\"-666.25\" font-family=\"Times,serif\" font-size=\"10.00\">2024&#45;10&#45;26</text>\n",
       "</g>\n",
       "<!-- Michael Chandler -->\n",
       "<g id=\"node8\" class=\"node\">\n",
       "<title>Michael Chandler</title>\n",
       "<ellipse fill=\"none\" stroke=\"black\" cx=\"92.94\" cy=\"-322.73\" rx=\"92.88\" ry=\"92.88\"/>\n",
       "<text text-anchor=\"middle\" x=\"92.94\" y=\"-319.03\" font-family=\"Times,serif\" font-size=\"14.00\">Michael Chandler</text>\n",
       "</g>\n",
       "<!-- Justin Gaethje&#45;&gt;Michael Chandler -->\n",
       "<g id=\"edge8\" class=\"edge\">\n",
       "<title>Justin Gaethje&#45;&gt;Michael Chandler</title>\n",
       "<path fill=\"none\" stroke=\"green\" d=\"M112.98,-714.28C101.97,-693.08 91.53,-668.88 85.94,-645.25 68.83,-572.92 71.41,-488.87 77.83,-424.84\"/>\n",
       "<polygon fill=\"green\" stroke=\"green\" points=\"81.32,-425.06 78.89,-414.75 74.36,-424.33 81.32,-425.06\"/>\n",
       "<text text-anchor=\"middle\" x=\"113.94\" y=\"-562.46\" font-family=\"Times,serif\" font-size=\"10.00\">UDEC</text>\n",
       "<text text-anchor=\"middle\" x=\"113.94\" y=\"-551.46\" font-family=\"Times,serif\" font-size=\"10.00\">2024&#45;10&#45;26</text>\n",
       "</g>\n",
       "<!-- Charles Oliveira&#45;&gt;Justin Gaethje -->\n",
       "<g id=\"edge10\" class=\"edge\">\n",
       "<title>Charles Oliveira&#45;&gt;Justin Gaethje</title>\n",
       "<path fill=\"none\" stroke=\"green\" d=\"M168.23,-611.27C153.12,-626.18 139.18,-643.78 130.94,-663.25 126.38,-674.03 124.96,-685.77 125.5,-697.51\"/>\n",
       "<polygon fill=\"green\" stroke=\"green\" points=\"122.05,-698.16 126.45,-707.79 129.02,-697.51 122.05,-698.16\"/>\n",
       "<text text-anchor=\"middle\" x=\"158.94\" y=\"-677.25\" font-family=\"Times,serif\" font-size=\"10.00\">SUB</text>\n",
       "<text text-anchor=\"middle\" x=\"158.94\" y=\"-666.25\" font-family=\"Times,serif\" font-size=\"10.00\">2024&#45;10&#45;26</text>\n",
       "</g>\n",
       "<!-- Charles Oliveira&#45;&gt;Michael Chandler -->\n",
       "<g id=\"edge9\" class=\"edge\">\n",
       "<title>Charles Oliveira&#45;&gt;Michael Chandler</title>\n",
       "<path fill=\"none\" stroke=\"green\" d=\"M192.37,-485.8C177.88,-462.19 161.66,-435.75 146.59,-411.18\"/>\n",
       "<polygon fill=\"green\" stroke=\"green\" points=\"149.52,-409.27 141.31,-402.57 143.56,-412.93 149.52,-409.27\"/>\n",
       "<text text-anchor=\"middle\" x=\"200.94\" y=\"-447.67\" font-family=\"Times,serif\" font-size=\"10.00\">KO/TKO</text>\n",
       "<text text-anchor=\"middle\" x=\"200.94\" y=\"-436.67\" font-family=\"Times,serif\" font-size=\"10.00\">2024&#45;10&#45;26</text>\n",
       "</g>\n",
       "<!-- Michael Chandler&#45;&gt;Paddy Pimblett -->\n",
       "<g id=\"edge11\" class=\"edge\">\n",
       "<title>Michael Chandler&#45;&gt;Paddy Pimblett</title>\n",
       "<path fill=\"none\" stroke=\"red\" d=\"M92.94,-229.59C92.94,-213.99 92.94,-197.76 92.94,-182.09\"/>\n",
       "<polygon fill=\"red\" stroke=\"red\" points=\"96.44,-181.88 92.94,-171.88 89.44,-181.88 96.44,-181.88\"/>\n",
       "<text text-anchor=\"middle\" x=\"120.94\" y=\"-203.79\" font-family=\"Times,serif\" font-size=\"10.00\">SUB</text>\n",
       "<text text-anchor=\"middle\" x=\"120.94\" y=\"-192.79\" font-family=\"Times,serif\" font-size=\"10.00\">2024&#45;10&#45;26</text>\n",
       "</g>\n",
       "</g>\n",
       "</svg>\n"
      ],
      "text/plain": [
       "<graphviz.graphs.Digraph at 0x7f7d6725caa0>"
      ]
     },
     "execution_count": 90,
     "metadata": {},
     "output_type": "execute_result"
    }
   ],
   "source": [
    "RunWholeAnalysis(\"Ilia Topuria\", \"Paddy Pimblett\", \"2026-01-01\")"
   ]
  },
  {
   "cell_type": "markdown",
   "id": "0ade64cf",
   "metadata": {},
   "source": [
    "<H2> Start scoring fights and paths </h2>"
   ]
  },
  {
   "cell_type": "markdown",
   "id": "694301d5",
   "metadata": {},
   "source": []
  }
 ],
 "metadata": {
  "kernelspec": {
   "display_name": "Python 3",
   "language": "python",
   "name": "python3"
  },
  "language_info": {
   "codemirror_mode": {
    "name": "ipython",
    "version": 3
   },
   "file_extension": ".py",
   "mimetype": "text/x-python",
   "name": "python",
   "nbconvert_exporter": "python",
   "pygments_lexer": "ipython3",
   "version": "3.12.1"
  }
 },
 "nbformat": 4,
 "nbformat_minor": 5
}
